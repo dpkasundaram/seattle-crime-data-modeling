{
  "cells": [
    {
      "cell_type": "markdown",
      "metadata": {
        "id": "CVwdHmhAgPVF"
      },
      "source": [
        "##Content\n",
        "\n",
        "\n",
        "1. Introduction\n",
        "2. Problem Definition\n",
        "3. Data Collection \n",
        "4. Data Preprocessing\n",
        "5. Data Clean-up\n",
        "6. Exploratory Data Analysis \n",
        "7. Visualization\n",
        "8. Feature Selection \n",
        "9. Model Experiment\n",
        "10. Implementation of Selected Model"
      ]
    },
    {
      "cell_type": "markdown",
      "metadata": {
        "id": "waqW6SGxzsra"
      },
      "source": [
        "#Introduction:\n",
        "Crime is one of the growing concerns in this modern era. Seattle has been facing continual crime related issues. With increasing crimes in the city, we are doing the predication analysis to find criminal hotspots in Seattle.\n",
        "\n",
        "#Problem Definition:\n",
        "Analyzing the real-world crime data of Seattle and finding the smooth livelihood in the city. For this analysis crime factors like robbery, murder, burglary and racial disparities are considered.\n",
        "\n",
        "We will try to identify most probable crime location and their recurrent occurring time. Also, we will find what category of crime might happen next in the specified location at a specific time. Identifying areas by crime rates can be helpful in preventing the crime or reducing the loss to a property/life. This solution might help cops to identify the crime location and increase\n",
        "the security levels in those crime hotspots. \n",
        "\n",
        "This process includes -\n",
        "• Collecting the data\n",
        "• Classifying\n",
        "• Identifying the pattern\n",
        "• Predicting the crime\n",
        "• Visualization or presentation of the report.\n",
        "\n",
        "\n",
        "#Data Sources:\n",
        "We are using the data published by the Seattle Police Department and Washington Association of Sheriff Department. Below are the references for those sites.\n",
        "https://data.seattle.gov/Public-Safety/SPD-Crime-Data-2008-Present/tazs-3rd5\n",
        "\n",
        "#Data Description:\n",
        "As of today, we have around 955 K records and 17 columns in the Seattle Police Department dataset. It consists of variables like Report Number, Offense ID, Offense Start Date Time, Offense End Date Time, Report Date Time, Crime Against Category, Group A B etc."
      ]
    },
    {
      "cell_type": "markdown",
      "metadata": {
        "id": "dHSvcrHOQ_TU"
      },
      "source": [
        "For this project, we will be using the data from Seattle Police Department which contains the crime report from 2008 to present. We will use this data to predict safe neighbourhood by considering the data of the years 2019,2020 and 2021."
      ]
    },
    {
      "cell_type": "markdown",
      "metadata": {
        "id": "Yvom5U-HUziH"
      },
      "source": [
        "## Import required packages"
      ]
    },
    {
      "cell_type": "code",
      "execution_count": 1,
      "metadata": {
        "id": "a7Bjue1MQ0so"
      },
      "outputs": [],
      "source": [
        "import pandas as pd\n",
        "import numpy as np\n",
        "import matplotlib.pyplot as plt\n",
        "import seaborn as sns\n",
        "import plotly.express as px\n",
        "from pathlib import Path\n",
        "from sklearn import preprocessing\n",
        "import geopandas as gpd\n",
        "#!pip install basemap-data-hires\n",
        "from mpl_toolkits.basemap import Basemap\n",
        "#!pip install mplcursors\n",
        "import mplcursors"
      ]
    },
    {
      "cell_type": "markdown",
      "metadata": {
        "id": "wOL3kvQdU64c"
      },
      "source": [
        "## Loading data downloaded from source"
      ]
    },
    {
      "cell_type": "code",
      "execution_count": 2,
      "metadata": {
        "colab": {
          "base_uri": "https://localhost:8080/",
          "height": 604,
          "resources": {
            "http://localhost:8080/nbextensions/google.colab/files.js": {
              "data": "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",
              "headers": [
                [
                  "content-type",
                  "application/javascript"
                ]
              ],
              "ok": true,
              "status": 200,
              "status_text": ""
            }
          }
        },
        "id": "74138xo4WE1y",
        "outputId": "000f2fa2-b4a7-4678-fcbe-e82f8dfe6c04"
      },
      "outputs": [
        {
          "data": {
            "text/html": [
              "\n",
              "     <input type=\"file\" id=\"files-4a924784-968b-4002-903b-4a2ac3308968\" name=\"files[]\" multiple disabled\n",
              "        style=\"border:none\" />\n",
              "     <output id=\"result-4a924784-968b-4002-903b-4a2ac3308968\">\n",
              "      Upload widget is only available when the cell has been executed in the\n",
              "      current browser session. Please rerun this cell to enable.\n",
              "      </output>\n",
              "      <script src=\"/nbextensions/google.colab/files.js\"></script> "
            ],
            "text/plain": [
              "<IPython.core.display.HTML object>"
            ]
          },
          "metadata": {},
          "output_type": "display_data"
        },
        {
          "name": "stdout",
          "output_type": "stream",
          "text": [
            "Saving SPD_Crime_Data__2008-Present.csv to SPD_Crime_Data__2008-Present.csv\n"
          ]
        },
        {
          "data": {
            "text/html": [
              "\n",
              "  <div id=\"df-d60af8b8-b219-4078-83ed-c370e2f812d6\">\n",
              "    <div class=\"colab-df-container\">\n",
              "      <div>\n",
              "<style scoped>\n",
              "    .dataframe tbody tr th:only-of-type {\n",
              "        vertical-align: middle;\n",
              "    }\n",
              "\n",
              "    .dataframe tbody tr th {\n",
              "        vertical-align: top;\n",
              "    }\n",
              "\n",
              "    .dataframe thead th {\n",
              "        text-align: right;\n",
              "    }\n",
              "</style>\n",
              "<table border=\"1\" class=\"dataframe\">\n",
              "  <thead>\n",
              "    <tr style=\"text-align: right;\">\n",
              "      <th></th>\n",
              "      <th>Report Number</th>\n",
              "      <th>Offense ID</th>\n",
              "      <th>Offense Start DateTime</th>\n",
              "      <th>Offense End DateTime</th>\n",
              "      <th>Report DateTime</th>\n",
              "      <th>Group A B</th>\n",
              "      <th>Crime Against Category</th>\n",
              "      <th>Offense Parent Group</th>\n",
              "      <th>Offense</th>\n",
              "      <th>Offense Code</th>\n",
              "      <th>Precinct</th>\n",
              "      <th>Sector</th>\n",
              "      <th>Beat</th>\n",
              "      <th>MCPP</th>\n",
              "      <th>100 Block Address</th>\n",
              "      <th>Longitude</th>\n",
              "      <th>Latitude</th>\n",
              "    </tr>\n",
              "  </thead>\n",
              "  <tbody>\n",
              "    <tr>\n",
              "      <th>0</th>\n",
              "      <td>2020-044620</td>\n",
              "      <td>12605873663</td>\n",
              "      <td>02/05/2020 10:10:00 AM</td>\n",
              "      <td>NaN</td>\n",
              "      <td>02/05/2020 11:24:31 AM</td>\n",
              "      <td>A</td>\n",
              "      <td>SOCIETY</td>\n",
              "      <td>DRUG/NARCOTIC OFFENSES</td>\n",
              "      <td>Drug/Narcotic Violations</td>\n",
              "      <td>35A</td>\n",
              "      <td>W</td>\n",
              "      <td>Q</td>\n",
              "      <td>Q1</td>\n",
              "      <td>MAGNOLIA</td>\n",
              "      <td>32XX BLOCK OF 23RD AVE W</td>\n",
              "      <td>-122.385974</td>\n",
              "      <td>47.649387</td>\n",
              "    </tr>\n",
              "    <tr>\n",
              "      <th>1</th>\n",
              "      <td>2020-044452</td>\n",
              "      <td>12605598696</td>\n",
              "      <td>02/03/2020 08:00:00 AM</td>\n",
              "      <td>02/04/2020 08:00:00 AM</td>\n",
              "      <td>02/05/2020 10:06:28 AM</td>\n",
              "      <td>A</td>\n",
              "      <td>PROPERTY</td>\n",
              "      <td>LARCENY-THEFT</td>\n",
              "      <td>Theft of Motor Vehicle Parts or Accessories</td>\n",
              "      <td>23G</td>\n",
              "      <td>N</td>\n",
              "      <td>J</td>\n",
              "      <td>J3</td>\n",
              "      <td>ROOSEVELT/RAVENNA</td>\n",
              "      <td>63XX BLOCK OF 5TH AVE NE</td>\n",
              "      <td>-122.323399</td>\n",
              "      <td>47.675118</td>\n",
              "    </tr>\n",
              "    <tr>\n",
              "      <th>2</th>\n",
              "      <td>2020-044465</td>\n",
              "      <td>12605567653</td>\n",
              "      <td>02/02/2020 08:30:00 PM</td>\n",
              "      <td>02/02/2020 09:30:00 PM</td>\n",
              "      <td>02/05/2020 09:39:33 AM</td>\n",
              "      <td>A</td>\n",
              "      <td>PROPERTY</td>\n",
              "      <td>ROBBERY</td>\n",
              "      <td>Robbery</td>\n",
              "      <td>120</td>\n",
              "      <td>N</td>\n",
              "      <td>U</td>\n",
              "      <td>U3</td>\n",
              "      <td>ROOSEVELT/RAVENNA</td>\n",
              "      <td>26TH AVE NE / NE BLAKELEY ST</td>\n",
              "      <td>-122.299552</td>\n",
              "      <td>47.666384</td>\n",
              "    </tr>\n",
              "    <tr>\n",
              "      <th>3</th>\n",
              "      <td>2020-044225</td>\n",
              "      <td>12605174036</td>\n",
              "      <td>02/05/2020 01:17:00 AM</td>\n",
              "      <td>02/05/2020 02:21:00 AM</td>\n",
              "      <td>02/05/2020 03:30:55 AM</td>\n",
              "      <td>A</td>\n",
              "      <td>PROPERTY</td>\n",
              "      <td>DESTRUCTION/DAMAGE/VANDALISM OF PROPERTY</td>\n",
              "      <td>Destruction/Damage/Vandalism of Property</td>\n",
              "      <td>290</td>\n",
              "      <td>W</td>\n",
              "      <td>Q</td>\n",
              "      <td>Q1</td>\n",
              "      <td>MAGNOLIA</td>\n",
              "      <td>22XX BLOCK OF W RAYE ST</td>\n",
              "      <td>-122.384865</td>\n",
              "      <td>47.642927</td>\n",
              "    </tr>\n",
              "    <tr>\n",
              "      <th>4</th>\n",
              "      <td>2020-044076</td>\n",
              "      <td>12605081469</td>\n",
              "      <td>02/05/2020 12:51:21 AM</td>\n",
              "      <td>NaN</td>\n",
              "      <td>02/05/2020 12:51:31 AM</td>\n",
              "      <td>B</td>\n",
              "      <td>SOCIETY</td>\n",
              "      <td>DRIVING UNDER THE INFLUENCE</td>\n",
              "      <td>Driving Under the Influence</td>\n",
              "      <td>90D</td>\n",
              "      <td>N</td>\n",
              "      <td>B</td>\n",
              "      <td>B2</td>\n",
              "      <td>BALLARD SOUTH</td>\n",
              "      <td>NW 46TH ST / 8TH AVE NW</td>\n",
              "      <td>-122.366195</td>\n",
              "      <td>47.662193</td>\n",
              "    </tr>\n",
              "  </tbody>\n",
              "</table>\n",
              "</div>\n",
              "      <button class=\"colab-df-convert\" onclick=\"convertToInteractive('df-d60af8b8-b219-4078-83ed-c370e2f812d6')\"\n",
              "              title=\"Convert this dataframe to an interactive table.\"\n",
              "              style=\"display:none;\">\n",
              "        \n",
              "  <svg xmlns=\"http://www.w3.org/2000/svg\" height=\"24px\"viewBox=\"0 0 24 24\"\n",
              "       width=\"24px\">\n",
              "    <path d=\"M0 0h24v24H0V0z\" fill=\"none\"/>\n",
              "    <path d=\"M18.56 5.44l.94 2.06.94-2.06 2.06-.94-2.06-.94-.94-2.06-.94 2.06-2.06.94zm-11 1L8.5 8.5l.94-2.06 2.06-.94-2.06-.94L8.5 2.5l-.94 2.06-2.06.94zm10 10l.94 2.06.94-2.06 2.06-.94-2.06-.94-.94-2.06-.94 2.06-2.06.94z\"/><path d=\"M17.41 7.96l-1.37-1.37c-.4-.4-.92-.59-1.43-.59-.52 0-1.04.2-1.43.59L10.3 9.45l-7.72 7.72c-.78.78-.78 2.05 0 2.83L4 21.41c.39.39.9.59 1.41.59.51 0 1.02-.2 1.41-.59l7.78-7.78 2.81-2.81c.8-.78.8-2.07 0-2.86zM5.41 20L4 18.59l7.72-7.72 1.47 1.35L5.41 20z\"/>\n",
              "  </svg>\n",
              "      </button>\n",
              "      \n",
              "  <style>\n",
              "    .colab-df-container {\n",
              "      display:flex;\n",
              "      flex-wrap:wrap;\n",
              "      gap: 12px;\n",
              "    }\n",
              "\n",
              "    .colab-df-convert {\n",
              "      background-color: #E8F0FE;\n",
              "      border: none;\n",
              "      border-radius: 50%;\n",
              "      cursor: pointer;\n",
              "      display: none;\n",
              "      fill: #1967D2;\n",
              "      height: 32px;\n",
              "      padding: 0 0 0 0;\n",
              "      width: 32px;\n",
              "    }\n",
              "\n",
              "    .colab-df-convert:hover {\n",
              "      background-color: #E2EBFA;\n",
              "      box-shadow: 0px 1px 2px rgba(60, 64, 67, 0.3), 0px 1px 3px 1px rgba(60, 64, 67, 0.15);\n",
              "      fill: #174EA6;\n",
              "    }\n",
              "\n",
              "    [theme=dark] .colab-df-convert {\n",
              "      background-color: #3B4455;\n",
              "      fill: #D2E3FC;\n",
              "    }\n",
              "\n",
              "    [theme=dark] .colab-df-convert:hover {\n",
              "      background-color: #434B5C;\n",
              "      box-shadow: 0px 1px 3px 1px rgba(0, 0, 0, 0.15);\n",
              "      filter: drop-shadow(0px 1px 2px rgba(0, 0, 0, 0.3));\n",
              "      fill: #FFFFFF;\n",
              "    }\n",
              "  </style>\n",
              "\n",
              "      <script>\n",
              "        const buttonEl =\n",
              "          document.querySelector('#df-d60af8b8-b219-4078-83ed-c370e2f812d6 button.colab-df-convert');\n",
              "        buttonEl.style.display =\n",
              "          google.colab.kernel.accessAllowed ? 'block' : 'none';\n",
              "\n",
              "        async function convertToInteractive(key) {\n",
              "          const element = document.querySelector('#df-d60af8b8-b219-4078-83ed-c370e2f812d6');\n",
              "          const dataTable =\n",
              "            await google.colab.kernel.invokeFunction('convertToInteractive',\n",
              "                                                     [key], {});\n",
              "          if (!dataTable) return;\n",
              "\n",
              "          const docLinkHtml = 'Like what you see? Visit the ' +\n",
              "            '<a target=\"_blank\" href=https://colab.research.google.com/notebooks/data_table.ipynb>data table notebook</a>'\n",
              "            + ' to learn more about interactive tables.';\n",
              "          element.innerHTML = '';\n",
              "          dataTable['output_type'] = 'display_data';\n",
              "          await google.colab.output.renderOutput(dataTable, element);\n",
              "          const docLink = document.createElement('div');\n",
              "          docLink.innerHTML = docLinkHtml;\n",
              "          element.appendChild(docLink);\n",
              "        }\n",
              "      </script>\n",
              "    </div>\n",
              "  </div>\n",
              "  "
            ],
            "text/plain": [
              "  Report Number   Offense ID  Offense Start DateTime    Offense End DateTime  \\\n",
              "0   2020-044620  12605873663  02/05/2020 10:10:00 AM                     NaN   \n",
              "1   2020-044452  12605598696  02/03/2020 08:00:00 AM  02/04/2020 08:00:00 AM   \n",
              "2   2020-044465  12605567653  02/02/2020 08:30:00 PM  02/02/2020 09:30:00 PM   \n",
              "3   2020-044225  12605174036  02/05/2020 01:17:00 AM  02/05/2020 02:21:00 AM   \n",
              "4   2020-044076  12605081469  02/05/2020 12:51:21 AM                     NaN   \n",
              "\n",
              "          Report DateTime Group A B Crime Against Category  \\\n",
              "0  02/05/2020 11:24:31 AM         A                SOCIETY   \n",
              "1  02/05/2020 10:06:28 AM         A               PROPERTY   \n",
              "2  02/05/2020 09:39:33 AM         A               PROPERTY   \n",
              "3  02/05/2020 03:30:55 AM         A               PROPERTY   \n",
              "4  02/05/2020 12:51:31 AM         B                SOCIETY   \n",
              "\n",
              "                       Offense Parent Group  \\\n",
              "0                    DRUG/NARCOTIC OFFENSES   \n",
              "1                             LARCENY-THEFT   \n",
              "2                                   ROBBERY   \n",
              "3  DESTRUCTION/DAMAGE/VANDALISM OF PROPERTY   \n",
              "4               DRIVING UNDER THE INFLUENCE   \n",
              "\n",
              "                                       Offense Offense Code Precinct Sector  \\\n",
              "0                     Drug/Narcotic Violations          35A        W      Q   \n",
              "1  Theft of Motor Vehicle Parts or Accessories          23G        N      J   \n",
              "2                                      Robbery          120        N      U   \n",
              "3     Destruction/Damage/Vandalism of Property          290        W      Q   \n",
              "4                  Driving Under the Influence          90D        N      B   \n",
              "\n",
              "  Beat               MCPP             100 Block Address   Longitude   Latitude  \n",
              "0   Q1           MAGNOLIA      32XX BLOCK OF 23RD AVE W -122.385974  47.649387  \n",
              "1   J3  ROOSEVELT/RAVENNA      63XX BLOCK OF 5TH AVE NE -122.323399  47.675118  \n",
              "2   U3  ROOSEVELT/RAVENNA  26TH AVE NE / NE BLAKELEY ST -122.299552  47.666384  \n",
              "3   Q1           MAGNOLIA       22XX BLOCK OF W RAYE ST -122.384865  47.642927  \n",
              "4   B2      BALLARD SOUTH       NW 46TH ST / 8TH AVE NW -122.366195  47.662193  "
            ]
          },
          "execution_count": 2,
          "metadata": {},
          "output_type": "execute_result"
        }
      ],
      "source": [
        "#Loading the entire dataset\n",
        "from google.colab import files\n",
        "file = files.upload()  #uploading file into google colab session\n",
        "TotalCrimeData = pd.read_csv(\"SPD_Crime_Data__2008-Present.csv\") \n",
        "TotalCrimeData.head()"
      ]
    },
    {
      "cell_type": "markdown",
      "metadata": {
        "id": "QZbkVnCBX_T5"
      },
      "source": [
        "## Determine the shape of the data frame. "
      ]
    },
    {
      "cell_type": "code",
      "execution_count": 4,
      "metadata": {
        "colab": {
          "base_uri": "https://localhost:8080/"
        },
        "id": "j2fDMPlnYELp",
        "outputId": "56e682ec-5271-46eb-9cf0-0a4f24e16036"
      },
      "outputs": [
        {
          "data": {
            "text/plain": [
              "(962558, 17)"
            ]
          },
          "execution_count": 4,
          "metadata": {},
          "output_type": "execute_result"
        }
      ],
      "source": [
        "TotalCrimeData.shape"
      ]
    },
    {
      "cell_type": "markdown",
      "metadata": {
        "id": "iQpVLyD4Y9mf"
      },
      "source": [
        "## It has 962558 rows and 17 columns"
      ]
    },
    {
      "cell_type": "markdown",
      "metadata": {
        "id": "OHi4A6UDZHBX"
      },
      "source": [
        "## Find the dataframe row and columns definition"
      ]
    },
    {
      "cell_type": "code",
      "execution_count": 5,
      "metadata": {
        "colab": {
          "base_uri": "https://localhost:8080/"
        },
        "id": "0z_fUng0ZGGS",
        "outputId": "58cfcffc-7470-45ce-ccd5-20e47192f552"
      },
      "outputs": [
        {
          "name": "stdout",
          "output_type": "stream",
          "text": [
            "<class 'pandas.core.frame.DataFrame'>\n",
            "RangeIndex: 962558 entries, 0 to 962557\n",
            "Data columns (total 17 columns):\n",
            " #   Column                  Non-Null Count   Dtype  \n",
            "---  ------                  --------------   -----  \n",
            " 0   Report Number           962558 non-null  object \n",
            " 1   Offense ID              962558 non-null  int64  \n",
            " 2   Offense Start DateTime  961599 non-null  object \n",
            " 3   Offense End DateTime    531255 non-null  object \n",
            " 4   Report DateTime         962558 non-null  object \n",
            " 5   Group A B               962558 non-null  object \n",
            " 6   Crime Against Category  962558 non-null  object \n",
            " 7   Offense Parent Group    962558 non-null  object \n",
            " 8   Offense                 962558 non-null  object \n",
            " 9   Offense Code            962558 non-null  object \n",
            " 10  Precinct                962554 non-null  object \n",
            " 11  Sector                  962556 non-null  object \n",
            " 12  Beat                    962556 non-null  object \n",
            " 13  MCPP                    962555 non-null  object \n",
            " 14  100 Block Address       924478 non-null  object \n",
            " 15  Longitude               962558 non-null  float64\n",
            " 16  Latitude                962558 non-null  float64\n",
            "dtypes: float64(2), int64(1), object(14)\n",
            "memory usage: 124.8+ MB\n"
          ]
        }
      ],
      "source": [
        "TotalCrimeData.info()"
      ]
    },
    {
      "cell_type": "markdown",
      "metadata": {
        "id": "M4ZsHpzEZfyq"
      },
      "source": [
        "## Cleanup\n",
        "Preprocessing and cleaning up data is an important aspect of data analysis.\n",
        "\n",
        "We shall drop unnecessary columns and rename columns as required."
      ]
    },
    {
      "cell_type": "code",
      "execution_count": 3,
      "metadata": {
        "id": "QrJIMQSAZq2g"
      },
      "outputs": [],
      "source": [
        "# Dropping Report Date Time and Offense Date Time\n",
        "\n",
        "TotalCrimeData = TotalCrimeData.drop(columns = ['Offense End DateTime','Report DateTime'])\n",
        "\n",
        "# These columns will not be used to predict upcoming crimes or safe neighbourhood."
      ]
    },
    {
      "cell_type": "code",
      "execution_count": 4,
      "metadata": {
        "id": "ySbEwRSValxM"
      },
      "outputs": [],
      "source": [
        "# Dropping Group A B and Crime Against Category\n",
        "\n",
        "TotalCrimeData = TotalCrimeData.drop(columns = ['Group A B','Crime Against Category'])\n",
        "\n",
        "# These columns are redundant, we can fetch the same information from other columns - Offense Parent Group and Offense"
      ]
    },
    {
      "cell_type": "code",
      "execution_count": 5,
      "metadata": {
        "id": "14jFLyc-b-yi"
      },
      "outputs": [],
      "source": [
        "# Dropping Offense ID and Beat\n",
        "\n",
        "TotalCrimeData = TotalCrimeData.drop(columns = ['Offense ID','Beat'])\n",
        "\n",
        "# Offense ID is just an identifier and we have another identifier column Report Number.\n",
        "# Beat information is also available in Sector column"
      ]
    },
    {
      "cell_type": "markdown",
      "metadata": {
        "id": "VEI0aM7PcnqP"
      },
      "source": [
        "## Show the remaining column names."
      ]
    },
    {
      "cell_type": "code",
      "execution_count": 9,
      "metadata": {
        "colab": {
          "base_uri": "https://localhost:8080/"
        },
        "id": "zeKaVBPYctca",
        "outputId": "200cbfbf-0ce5-4cf2-e2cb-567210197944"
      },
      "outputs": [
        {
          "data": {
            "text/plain": [
              "Index(['Report Number', 'Offense Start DateTime', 'Offense Parent Group',\n",
              "       'Offense', 'Offense Code', 'Precinct', 'Sector', 'MCPP',\n",
              "       '100 Block Address', 'Longitude', 'Latitude'],\n",
              "      dtype='object')"
            ]
          },
          "execution_count": 9,
          "metadata": {},
          "output_type": "execute_result"
        }
      ],
      "source": [
        "TotalCrimeData.columns"
      ]
    },
    {
      "cell_type": "markdown",
      "metadata": {
        "id": "DXsInQXMdmJf"
      },
      "source": [
        "### Some column titles consist of two space separated words. For further analysis it's more convenient to have column names which are single words."
      ]
    },
    {
      "cell_type": "code",
      "execution_count": 6,
      "metadata": {
        "colab": {
          "base_uri": "https://localhost:8080/"
        },
        "id": "DWgGNcitd4YZ",
        "outputId": "b056d25b-9b58-40d6-89c2-0ec7a237ce1a"
      },
      "outputs": [
        {
          "data": {
            "text/plain": [
              "Index(['Report_Number', 'Offense_Start_DateTime', 'Offense_Parent_Group',\n",
              "       'Offense', 'Offense_Code', 'Precinct', 'Sector', 'MCPP',\n",
              "       '100_Block_Address', 'Longitude', 'Latitude'],\n",
              "      dtype='object')"
            ]
          },
          "execution_count": 6,
          "metadata": {},
          "output_type": "execute_result"
        }
      ],
      "source": [
        "TotalCrimeData.columns = [s.strip().replace(' ', '_') for s in TotalCrimeData.columns]\n",
        "TotalCrimeData.columns"
      ]
    },
    {
      "cell_type": "markdown",
      "metadata": {
        "id": "qXkqJQSXe3Zy"
      },
      "source": [
        "## Accessing subsets of the data\n",
        "\n",
        "We shall consider rows with report number starting with 2019,2020 and 2021 using pattern matching. We are considering only recent 3 years data for detailed analysis."
      ]
    },
    {
      "cell_type": "code",
      "execution_count": 7,
      "metadata": {
        "id": "9b2T_8C7g6H5"
      },
      "outputs": [],
      "source": [
        "Year = ['2019','2020','2021']\n",
        "FinalCrimeData = TotalCrimeData[TotalCrimeData.Report_Number.str.startswith(tuple(Year))]"
      ]
    },
    {
      "cell_type": "markdown",
      "metadata": {
        "id": "tApFYiTKiA8E"
      },
      "source": [
        "### Print number of common statistics of final data"
      ]
    },
    {
      "cell_type": "code",
      "execution_count": 8,
      "metadata": {
        "colab": {
          "base_uri": "https://localhost:8080/",
          "height": 510
        },
        "id": "4lZAwE4Ah24J",
        "outputId": "c5942ced-4648-4cc1-9304-a71a85412c8a"
      },
      "outputs": [
        {
          "data": {
            "text/html": [
              "\n",
              "  <div id=\"df-99bb0443-3cbb-4466-afa4-8a6e5d4941e8\">\n",
              "    <div class=\"colab-df-container\">\n",
              "      <div>\n",
              "<style scoped>\n",
              "    .dataframe tbody tr th:only-of-type {\n",
              "        vertical-align: middle;\n",
              "    }\n",
              "\n",
              "    .dataframe tbody tr th {\n",
              "        vertical-align: top;\n",
              "    }\n",
              "\n",
              "    .dataframe thead th {\n",
              "        text-align: right;\n",
              "    }\n",
              "</style>\n",
              "<table border=\"1\" class=\"dataframe\">\n",
              "  <thead>\n",
              "    <tr style=\"text-align: right;\">\n",
              "      <th></th>\n",
              "      <th>Report_Number</th>\n",
              "      <th>Offense_Start_DateTime</th>\n",
              "      <th>Offense_Parent_Group</th>\n",
              "      <th>Offense</th>\n",
              "      <th>Offense_Code</th>\n",
              "      <th>Precinct</th>\n",
              "      <th>Sector</th>\n",
              "      <th>MCPP</th>\n",
              "      <th>100_Block_Address</th>\n",
              "      <th>Longitude</th>\n",
              "      <th>Latitude</th>\n",
              "    </tr>\n",
              "  </thead>\n",
              "  <tbody>\n",
              "    <tr>\n",
              "      <th>count</th>\n",
              "      <td>218718</td>\n",
              "      <td>217805</td>\n",
              "      <td>218718</td>\n",
              "      <td>218718</td>\n",
              "      <td>218718</td>\n",
              "      <td>218714</td>\n",
              "      <td>218716</td>\n",
              "      <td>218715</td>\n",
              "      <td>205463</td>\n",
              "      <td>218718.000000</td>\n",
              "      <td>218718.000000</td>\n",
              "    </tr>\n",
              "    <tr>\n",
              "      <th>unique</th>\n",
              "      <td>203782</td>\n",
              "      <td>135176</td>\n",
              "      <td>32</td>\n",
              "      <td>57</td>\n",
              "      <td>57</td>\n",
              "      <td>8</td>\n",
              "      <td>21</td>\n",
              "      <td>61</td>\n",
              "      <td>25406</td>\n",
              "      <td>NaN</td>\n",
              "      <td>NaN</td>\n",
              "    </tr>\n",
              "    <tr>\n",
              "      <th>top</th>\n",
              "      <td>2019-141012</td>\n",
              "      <td>03/08/2020 12:00:00 AM</td>\n",
              "      <td>LARCENY-THEFT</td>\n",
              "      <td>Theft From Motor Vehicle</td>\n",
              "      <td>23F</td>\n",
              "      <td>N</td>\n",
              "      <td>U</td>\n",
              "      <td>DOWNTOWN COMMERCIAL</td>\n",
              "      <td>14XX BLOCK OF 2ND AVE</td>\n",
              "      <td>NaN</td>\n",
              "      <td>NaN</td>\n",
              "    </tr>\n",
              "    <tr>\n",
              "      <th>freq</th>\n",
              "      <td>7</td>\n",
              "      <td>274</td>\n",
              "      <td>76681</td>\n",
              "      <td>29203</td>\n",
              "      <td>29203</td>\n",
              "      <td>74033</td>\n",
              "      <td>19335</td>\n",
              "      <td>14399</td>\n",
              "      <td>1124</td>\n",
              "      <td>NaN</td>\n",
              "      <td>NaN</td>\n",
              "    </tr>\n",
              "    <tr>\n",
              "      <th>mean</th>\n",
              "      <td>NaN</td>\n",
              "      <td>NaN</td>\n",
              "      <td>NaN</td>\n",
              "      <td>NaN</td>\n",
              "      <td>NaN</td>\n",
              "      <td>NaN</td>\n",
              "      <td>NaN</td>\n",
              "      <td>NaN</td>\n",
              "      <td>NaN</td>\n",
              "      <td>-114.910488</td>\n",
              "      <td>44.735602</td>\n",
              "    </tr>\n",
              "    <tr>\n",
              "      <th>std</th>\n",
              "      <td>NaN</td>\n",
              "      <td>NaN</td>\n",
              "      <td>NaN</td>\n",
              "      <td>NaN</td>\n",
              "      <td>NaN</td>\n",
              "      <td>NaN</td>\n",
              "      <td>NaN</td>\n",
              "      <td>NaN</td>\n",
              "      <td>NaN</td>\n",
              "      <td>29.203033</td>\n",
              "      <td>11.369098</td>\n",
              "    </tr>\n",
              "    <tr>\n",
              "      <th>min</th>\n",
              "      <td>NaN</td>\n",
              "      <td>NaN</td>\n",
              "      <td>NaN</td>\n",
              "      <td>NaN</td>\n",
              "      <td>NaN</td>\n",
              "      <td>NaN</td>\n",
              "      <td>NaN</td>\n",
              "      <td>NaN</td>\n",
              "      <td>NaN</td>\n",
              "      <td>-122.432252</td>\n",
              "      <td>0.000000</td>\n",
              "    </tr>\n",
              "    <tr>\n",
              "      <th>25%</th>\n",
              "      <td>NaN</td>\n",
              "      <td>NaN</td>\n",
              "      <td>NaN</td>\n",
              "      <td>NaN</td>\n",
              "      <td>NaN</td>\n",
              "      <td>NaN</td>\n",
              "      <td>NaN</td>\n",
              "      <td>NaN</td>\n",
              "      <td>NaN</td>\n",
              "      <td>-122.348355</td>\n",
              "      <td>47.578770</td>\n",
              "    </tr>\n",
              "    <tr>\n",
              "      <th>50%</th>\n",
              "      <td>NaN</td>\n",
              "      <td>NaN</td>\n",
              "      <td>NaN</td>\n",
              "      <td>NaN</td>\n",
              "      <td>NaN</td>\n",
              "      <td>NaN</td>\n",
              "      <td>NaN</td>\n",
              "      <td>NaN</td>\n",
              "      <td>NaN</td>\n",
              "      <td>-122.327721</td>\n",
              "      <td>47.615838</td>\n",
              "    </tr>\n",
              "    <tr>\n",
              "      <th>75%</th>\n",
              "      <td>NaN</td>\n",
              "      <td>NaN</td>\n",
              "      <td>NaN</td>\n",
              "      <td>NaN</td>\n",
              "      <td>NaN</td>\n",
              "      <td>NaN</td>\n",
              "      <td>NaN</td>\n",
              "      <td>NaN</td>\n",
              "      <td>NaN</td>\n",
              "      <td>-122.308387</td>\n",
              "      <td>47.663996</td>\n",
              "    </tr>\n",
              "    <tr>\n",
              "      <th>max</th>\n",
              "      <td>NaN</td>\n",
              "      <td>NaN</td>\n",
              "      <td>NaN</td>\n",
              "      <td>NaN</td>\n",
              "      <td>NaN</td>\n",
              "      <td>NaN</td>\n",
              "      <td>NaN</td>\n",
              "      <td>NaN</td>\n",
              "      <td>NaN</td>\n",
              "      <td>0.000000</td>\n",
              "      <td>47.735961</td>\n",
              "    </tr>\n",
              "  </tbody>\n",
              "</table>\n",
              "</div>\n",
              "      <button class=\"colab-df-convert\" onclick=\"convertToInteractive('df-99bb0443-3cbb-4466-afa4-8a6e5d4941e8')\"\n",
              "              title=\"Convert this dataframe to an interactive table.\"\n",
              "              style=\"display:none;\">\n",
              "        \n",
              "  <svg xmlns=\"http://www.w3.org/2000/svg\" height=\"24px\"viewBox=\"0 0 24 24\"\n",
              "       width=\"24px\">\n",
              "    <path d=\"M0 0h24v24H0V0z\" fill=\"none\"/>\n",
              "    <path d=\"M18.56 5.44l.94 2.06.94-2.06 2.06-.94-2.06-.94-.94-2.06-.94 2.06-2.06.94zm-11 1L8.5 8.5l.94-2.06 2.06-.94-2.06-.94L8.5 2.5l-.94 2.06-2.06.94zm10 10l.94 2.06.94-2.06 2.06-.94-2.06-.94-.94-2.06-.94 2.06-2.06.94z\"/><path d=\"M17.41 7.96l-1.37-1.37c-.4-.4-.92-.59-1.43-.59-.52 0-1.04.2-1.43.59L10.3 9.45l-7.72 7.72c-.78.78-.78 2.05 0 2.83L4 21.41c.39.39.9.59 1.41.59.51 0 1.02-.2 1.41-.59l7.78-7.78 2.81-2.81c.8-.78.8-2.07 0-2.86zM5.41 20L4 18.59l7.72-7.72 1.47 1.35L5.41 20z\"/>\n",
              "  </svg>\n",
              "      </button>\n",
              "      \n",
              "  <style>\n",
              "    .colab-df-container {\n",
              "      display:flex;\n",
              "      flex-wrap:wrap;\n",
              "      gap: 12px;\n",
              "    }\n",
              "\n",
              "    .colab-df-convert {\n",
              "      background-color: #E8F0FE;\n",
              "      border: none;\n",
              "      border-radius: 50%;\n",
              "      cursor: pointer;\n",
              "      display: none;\n",
              "      fill: #1967D2;\n",
              "      height: 32px;\n",
              "      padding: 0 0 0 0;\n",
              "      width: 32px;\n",
              "    }\n",
              "\n",
              "    .colab-df-convert:hover {\n",
              "      background-color: #E2EBFA;\n",
              "      box-shadow: 0px 1px 2px rgba(60, 64, 67, 0.3), 0px 1px 3px 1px rgba(60, 64, 67, 0.15);\n",
              "      fill: #174EA6;\n",
              "    }\n",
              "\n",
              "    [theme=dark] .colab-df-convert {\n",
              "      background-color: #3B4455;\n",
              "      fill: #D2E3FC;\n",
              "    }\n",
              "\n",
              "    [theme=dark] .colab-df-convert:hover {\n",
              "      background-color: #434B5C;\n",
              "      box-shadow: 0px 1px 3px 1px rgba(0, 0, 0, 0.15);\n",
              "      filter: drop-shadow(0px 1px 2px rgba(0, 0, 0, 0.3));\n",
              "      fill: #FFFFFF;\n",
              "    }\n",
              "  </style>\n",
              "\n",
              "      <script>\n",
              "        const buttonEl =\n",
              "          document.querySelector('#df-99bb0443-3cbb-4466-afa4-8a6e5d4941e8 button.colab-df-convert');\n",
              "        buttonEl.style.display =\n",
              "          google.colab.kernel.accessAllowed ? 'block' : 'none';\n",
              "\n",
              "        async function convertToInteractive(key) {\n",
              "          const element = document.querySelector('#df-99bb0443-3cbb-4466-afa4-8a6e5d4941e8');\n",
              "          const dataTable =\n",
              "            await google.colab.kernel.invokeFunction('convertToInteractive',\n",
              "                                                     [key], {});\n",
              "          if (!dataTable) return;\n",
              "\n",
              "          const docLinkHtml = 'Like what you see? Visit the ' +\n",
              "            '<a target=\"_blank\" href=https://colab.research.google.com/notebooks/data_table.ipynb>data table notebook</a>'\n",
              "            + ' to learn more about interactive tables.';\n",
              "          element.innerHTML = '';\n",
              "          dataTable['output_type'] = 'display_data';\n",
              "          await google.colab.output.renderOutput(dataTable, element);\n",
              "          const docLink = document.createElement('div');\n",
              "          docLink.innerHTML = docLinkHtml;\n",
              "          element.appendChild(docLink);\n",
              "        }\n",
              "      </script>\n",
              "    </div>\n",
              "  </div>\n",
              "  "
            ],
            "text/plain": [
              "       Report_Number  Offense_Start_DateTime Offense_Parent_Group  \\\n",
              "count         218718                  217805               218718   \n",
              "unique        203782                  135176                   32   \n",
              "top      2019-141012  03/08/2020 12:00:00 AM        LARCENY-THEFT   \n",
              "freq               7                     274                76681   \n",
              "mean             NaN                     NaN                  NaN   \n",
              "std              NaN                     NaN                  NaN   \n",
              "min              NaN                     NaN                  NaN   \n",
              "25%              NaN                     NaN                  NaN   \n",
              "50%              NaN                     NaN                  NaN   \n",
              "75%              NaN                     NaN                  NaN   \n",
              "max              NaN                     NaN                  NaN   \n",
              "\n",
              "                         Offense Offense_Code Precinct  Sector  \\\n",
              "count                     218718       218718   218714  218716   \n",
              "unique                        57           57        8      21   \n",
              "top     Theft From Motor Vehicle          23F        N       U   \n",
              "freq                       29203        29203    74033   19335   \n",
              "mean                         NaN          NaN      NaN     NaN   \n",
              "std                          NaN          NaN      NaN     NaN   \n",
              "min                          NaN          NaN      NaN     NaN   \n",
              "25%                          NaN          NaN      NaN     NaN   \n",
              "50%                          NaN          NaN      NaN     NaN   \n",
              "75%                          NaN          NaN      NaN     NaN   \n",
              "max                          NaN          NaN      NaN     NaN   \n",
              "\n",
              "                       MCPP      100_Block_Address      Longitude  \\\n",
              "count                218715                 205463  218718.000000   \n",
              "unique                   61                  25406            NaN   \n",
              "top     DOWNTOWN COMMERCIAL  14XX BLOCK OF 2ND AVE            NaN   \n",
              "freq                  14399                   1124            NaN   \n",
              "mean                    NaN                    NaN    -114.910488   \n",
              "std                     NaN                    NaN      29.203033   \n",
              "min                     NaN                    NaN    -122.432252   \n",
              "25%                     NaN                    NaN    -122.348355   \n",
              "50%                     NaN                    NaN    -122.327721   \n",
              "75%                     NaN                    NaN    -122.308387   \n",
              "max                     NaN                    NaN       0.000000   \n",
              "\n",
              "             Latitude  \n",
              "count   218718.000000  \n",
              "unique            NaN  \n",
              "top               NaN  \n",
              "freq              NaN  \n",
              "mean        44.735602  \n",
              "std         11.369098  \n",
              "min          0.000000  \n",
              "25%         47.578770  \n",
              "50%         47.615838  \n",
              "75%         47.663996  \n",
              "max         47.735961  "
            ]
          },
          "execution_count": 8,
          "metadata": {},
          "output_type": "execute_result"
        }
      ],
      "source": [
        "FinalCrimeData.describe(include = 'all')"
      ]
    },
    {
      "cell_type": "markdown",
      "metadata": {
        "id": "i8HkHhqpk84Q"
      },
      "source": [
        "## Check for NA values in the data frame."
      ]
    },
    {
      "cell_type": "code",
      "execution_count": 13,
      "metadata": {
        "colab": {
          "base_uri": "https://localhost:8080/"
        },
        "id": "CSZqxvkyksZO",
        "outputId": "cfb690ba-63b8-437f-bb63-859d81d20ce1"
      },
      "outputs": [
        {
          "data": {
            "text/plain": [
              "Report_Number                 0\n",
              "Offense_Start_DateTime      913\n",
              "Offense_Parent_Group          0\n",
              "Offense                       0\n",
              "Offense_Code                  0\n",
              "Precinct                      4\n",
              "Sector                        2\n",
              "MCPP                          3\n",
              "100_Block_Address         13255\n",
              "Longitude                     0\n",
              "Latitude                      0\n",
              "dtype: int64"
            ]
          },
          "execution_count": 13,
          "metadata": {},
          "output_type": "execute_result"
        }
      ],
      "source": [
        "FinalCrimeData.isna().sum()"
      ]
    },
    {
      "cell_type": "markdown",
      "metadata": {
        "id": "7tZWMGP2lNQZ"
      },
      "source": [
        "## Drop the rows with NA values. We cannot impute this as we are predicting the crime based on time and imputing may manipulate the information."
      ]
    },
    {
      "cell_type": "code",
      "execution_count": 9,
      "metadata": {
        "colab": {
          "base_uri": "https://localhost:8080/"
        },
        "id": "9BsRIsV_liP7",
        "outputId": "bd708328-cbcf-4f4d-84a0-6b98b36fd686"
      },
      "outputs": [
        {
          "data": {
            "text/plain": [
              "(217800, 11)"
            ]
          },
          "execution_count": 9,
          "metadata": {},
          "output_type": "execute_result"
        }
      ],
      "source": [
        "FinalCrimeData = FinalCrimeData.dropna(subset=['Offense_Start_DateTime'])\n",
        "FinalCrimeData = FinalCrimeData.dropna(subset=['Precinct'])\n",
        "FinalCrimeData = FinalCrimeData.dropna(subset=['MCPP'])\n",
        "FinalCrimeData = FinalCrimeData.dropna(subset=['Sector'])\n",
        "FinalCrimeData.shape"
      ]
    },
    {
      "cell_type": "markdown",
      "metadata": {
        "id": "1zvQhJT8nLoI"
      },
      "source": [
        "### We are ignoring the NA values in column 100 Block Address as this data can be fetched from longitude and latitude."
      ]
    },
    {
      "cell_type": "markdown",
      "metadata": {
        "id": "pBTr_CsgnoIr"
      },
      "source": [
        "### We are not Scaling/Normalizing the data as Longitude and Latitudes are the only numeric columns and scaling them would manipulate the location data."
      ]
    },
    {
      "cell_type": "markdown",
      "metadata": {
        "id": "gAZlzOHgNr6u"
      },
      "source": [
        "#Exploratory Data Analysis"
      ]
    },
    {
      "cell_type": "markdown",
      "metadata": {
        "id": "T7Km2iTNOWDN"
      },
      "source": [
        "##Shape of processed data"
      ]
    },
    {
      "cell_type": "code",
      "execution_count": 16,
      "metadata": {
        "colab": {
          "base_uri": "https://localhost:8080/"
        },
        "id": "oWiIkg4TLapV",
        "outputId": "ae78ad85-b26a-4ce5-e343-2f2ffa3201c5"
      },
      "outputs": [
        {
          "data": {
            "text/plain": [
              "(217800, 11)"
            ]
          },
          "execution_count": 16,
          "metadata": {},
          "output_type": "execute_result"
        }
      ],
      "source": [
        "FinalCrimeData.shape"
      ]
    },
    {
      "cell_type": "markdown",
      "metadata": {
        "id": "X1dA0-H4O8LZ"
      },
      "source": [
        "##Description for categorical and numerical data"
      ]
    },
    {
      "cell_type": "code",
      "execution_count": 10,
      "metadata": {
        "colab": {
          "base_uri": "https://localhost:8080/",
          "height": 510
        },
        "id": "1eZ2VdqeOiq2",
        "outputId": "bfd1cae1-7f77-4eff-8323-f5f9e1d4070b"
      },
      "outputs": [
        {
          "data": {
            "text/html": [
              "\n",
              "  <div id=\"df-4b96fdb5-1cfc-46cc-90ac-429c6af58429\">\n",
              "    <div class=\"colab-df-container\">\n",
              "      <div>\n",
              "<style scoped>\n",
              "    .dataframe tbody tr th:only-of-type {\n",
              "        vertical-align: middle;\n",
              "    }\n",
              "\n",
              "    .dataframe tbody tr th {\n",
              "        vertical-align: top;\n",
              "    }\n",
              "\n",
              "    .dataframe thead th {\n",
              "        text-align: right;\n",
              "    }\n",
              "</style>\n",
              "<table border=\"1\" class=\"dataframe\">\n",
              "  <thead>\n",
              "    <tr style=\"text-align: right;\">\n",
              "      <th></th>\n",
              "      <th>Report_Number</th>\n",
              "      <th>Offense_Start_DateTime</th>\n",
              "      <th>Offense_Parent_Group</th>\n",
              "      <th>Offense</th>\n",
              "      <th>Offense_Code</th>\n",
              "      <th>Precinct</th>\n",
              "      <th>Sector</th>\n",
              "      <th>MCPP</th>\n",
              "      <th>100_Block_Address</th>\n",
              "      <th>Longitude</th>\n",
              "      <th>Latitude</th>\n",
              "    </tr>\n",
              "  </thead>\n",
              "  <tbody>\n",
              "    <tr>\n",
              "      <th>count</th>\n",
              "      <td>217800</td>\n",
              "      <td>217800</td>\n",
              "      <td>217800</td>\n",
              "      <td>217800</td>\n",
              "      <td>217800</td>\n",
              "      <td>217800</td>\n",
              "      <td>217800</td>\n",
              "      <td>217800</td>\n",
              "      <td>204688</td>\n",
              "      <td>217800.000000</td>\n",
              "      <td>217800.000000</td>\n",
              "    </tr>\n",
              "    <tr>\n",
              "      <th>unique</th>\n",
              "      <td>202927</td>\n",
              "      <td>135173</td>\n",
              "      <td>32</td>\n",
              "      <td>57</td>\n",
              "      <td>57</td>\n",
              "      <td>8</td>\n",
              "      <td>21</td>\n",
              "      <td>61</td>\n",
              "      <td>25376</td>\n",
              "      <td>NaN</td>\n",
              "      <td>NaN</td>\n",
              "    </tr>\n",
              "    <tr>\n",
              "      <th>top</th>\n",
              "      <td>2019-141012</td>\n",
              "      <td>03/08/2020 12:00:00 AM</td>\n",
              "      <td>LARCENY-THEFT</td>\n",
              "      <td>Theft From Motor Vehicle</td>\n",
              "      <td>23F</td>\n",
              "      <td>N</td>\n",
              "      <td>U</td>\n",
              "      <td>DOWNTOWN COMMERCIAL</td>\n",
              "      <td>14XX BLOCK OF 2ND AVE</td>\n",
              "      <td>NaN</td>\n",
              "      <td>NaN</td>\n",
              "    </tr>\n",
              "    <tr>\n",
              "      <th>freq</th>\n",
              "      <td>7</td>\n",
              "      <td>274</td>\n",
              "      <td>76393</td>\n",
              "      <td>29169</td>\n",
              "      <td>29169</td>\n",
              "      <td>73739</td>\n",
              "      <td>19272</td>\n",
              "      <td>14371</td>\n",
              "      <td>1123</td>\n",
              "      <td>NaN</td>\n",
              "      <td>NaN</td>\n",
              "    </tr>\n",
              "    <tr>\n",
              "      <th>mean</th>\n",
              "      <td>NaN</td>\n",
              "      <td>NaN</td>\n",
              "      <td>NaN</td>\n",
              "      <td>NaN</td>\n",
              "      <td>NaN</td>\n",
              "      <td>NaN</td>\n",
              "      <td>NaN</td>\n",
              "      <td>NaN</td>\n",
              "      <td>NaN</td>\n",
              "      <td>-114.959527</td>\n",
              "      <td>44.754721</td>\n",
              "    </tr>\n",
              "    <tr>\n",
              "      <th>std</th>\n",
              "      <td>NaN</td>\n",
              "      <td>NaN</td>\n",
              "      <td>NaN</td>\n",
              "      <td>NaN</td>\n",
              "      <td>NaN</td>\n",
              "      <td>NaN</td>\n",
              "      <td>NaN</td>\n",
              "      <td>NaN</td>\n",
              "      <td>NaN</td>\n",
              "      <td>29.112604</td>\n",
              "      <td>11.333900</td>\n",
              "    </tr>\n",
              "    <tr>\n",
              "      <th>min</th>\n",
              "      <td>NaN</td>\n",
              "      <td>NaN</td>\n",
              "      <td>NaN</td>\n",
              "      <td>NaN</td>\n",
              "      <td>NaN</td>\n",
              "      <td>NaN</td>\n",
              "      <td>NaN</td>\n",
              "      <td>NaN</td>\n",
              "      <td>NaN</td>\n",
              "      <td>-122.432252</td>\n",
              "      <td>0.000000</td>\n",
              "    </tr>\n",
              "    <tr>\n",
              "      <th>25%</th>\n",
              "      <td>NaN</td>\n",
              "      <td>NaN</td>\n",
              "      <td>NaN</td>\n",
              "      <td>NaN</td>\n",
              "      <td>NaN</td>\n",
              "      <td>NaN</td>\n",
              "      <td>NaN</td>\n",
              "      <td>NaN</td>\n",
              "      <td>NaN</td>\n",
              "      <td>-122.348355</td>\n",
              "      <td>47.578872</td>\n",
              "    </tr>\n",
              "    <tr>\n",
              "      <th>50%</th>\n",
              "      <td>NaN</td>\n",
              "      <td>NaN</td>\n",
              "      <td>NaN</td>\n",
              "      <td>NaN</td>\n",
              "      <td>NaN</td>\n",
              "      <td>NaN</td>\n",
              "      <td>NaN</td>\n",
              "      <td>NaN</td>\n",
              "      <td>NaN</td>\n",
              "      <td>-122.327755</td>\n",
              "      <td>47.615838</td>\n",
              "    </tr>\n",
              "    <tr>\n",
              "      <th>75%</th>\n",
              "      <td>NaN</td>\n",
              "      <td>NaN</td>\n",
              "      <td>NaN</td>\n",
              "      <td>NaN</td>\n",
              "      <td>NaN</td>\n",
              "      <td>NaN</td>\n",
              "      <td>NaN</td>\n",
              "      <td>NaN</td>\n",
              "      <td>NaN</td>\n",
              "      <td>-122.308459</td>\n",
              "      <td>47.663996</td>\n",
              "    </tr>\n",
              "    <tr>\n",
              "      <th>max</th>\n",
              "      <td>NaN</td>\n",
              "      <td>NaN</td>\n",
              "      <td>NaN</td>\n",
              "      <td>NaN</td>\n",
              "      <td>NaN</td>\n",
              "      <td>NaN</td>\n",
              "      <td>NaN</td>\n",
              "      <td>NaN</td>\n",
              "      <td>NaN</td>\n",
              "      <td>0.000000</td>\n",
              "      <td>47.735961</td>\n",
              "    </tr>\n",
              "  </tbody>\n",
              "</table>\n",
              "</div>\n",
              "      <button class=\"colab-df-convert\" onclick=\"convertToInteractive('df-4b96fdb5-1cfc-46cc-90ac-429c6af58429')\"\n",
              "              title=\"Convert this dataframe to an interactive table.\"\n",
              "              style=\"display:none;\">\n",
              "        \n",
              "  <svg xmlns=\"http://www.w3.org/2000/svg\" height=\"24px\"viewBox=\"0 0 24 24\"\n",
              "       width=\"24px\">\n",
              "    <path d=\"M0 0h24v24H0V0z\" fill=\"none\"/>\n",
              "    <path d=\"M18.56 5.44l.94 2.06.94-2.06 2.06-.94-2.06-.94-.94-2.06-.94 2.06-2.06.94zm-11 1L8.5 8.5l.94-2.06 2.06-.94-2.06-.94L8.5 2.5l-.94 2.06-2.06.94zm10 10l.94 2.06.94-2.06 2.06-.94-2.06-.94-.94-2.06-.94 2.06-2.06.94z\"/><path d=\"M17.41 7.96l-1.37-1.37c-.4-.4-.92-.59-1.43-.59-.52 0-1.04.2-1.43.59L10.3 9.45l-7.72 7.72c-.78.78-.78 2.05 0 2.83L4 21.41c.39.39.9.59 1.41.59.51 0 1.02-.2 1.41-.59l7.78-7.78 2.81-2.81c.8-.78.8-2.07 0-2.86zM5.41 20L4 18.59l7.72-7.72 1.47 1.35L5.41 20z\"/>\n",
              "  </svg>\n",
              "      </button>\n",
              "      \n",
              "  <style>\n",
              "    .colab-df-container {\n",
              "      display:flex;\n",
              "      flex-wrap:wrap;\n",
              "      gap: 12px;\n",
              "    }\n",
              "\n",
              "    .colab-df-convert {\n",
              "      background-color: #E8F0FE;\n",
              "      border: none;\n",
              "      border-radius: 50%;\n",
              "      cursor: pointer;\n",
              "      display: none;\n",
              "      fill: #1967D2;\n",
              "      height: 32px;\n",
              "      padding: 0 0 0 0;\n",
              "      width: 32px;\n",
              "    }\n",
              "\n",
              "    .colab-df-convert:hover {\n",
              "      background-color: #E2EBFA;\n",
              "      box-shadow: 0px 1px 2px rgba(60, 64, 67, 0.3), 0px 1px 3px 1px rgba(60, 64, 67, 0.15);\n",
              "      fill: #174EA6;\n",
              "    }\n",
              "\n",
              "    [theme=dark] .colab-df-convert {\n",
              "      background-color: #3B4455;\n",
              "      fill: #D2E3FC;\n",
              "    }\n",
              "\n",
              "    [theme=dark] .colab-df-convert:hover {\n",
              "      background-color: #434B5C;\n",
              "      box-shadow: 0px 1px 3px 1px rgba(0, 0, 0, 0.15);\n",
              "      filter: drop-shadow(0px 1px 2px rgba(0, 0, 0, 0.3));\n",
              "      fill: #FFFFFF;\n",
              "    }\n",
              "  </style>\n",
              "\n",
              "      <script>\n",
              "        const buttonEl =\n",
              "          document.querySelector('#df-4b96fdb5-1cfc-46cc-90ac-429c6af58429 button.colab-df-convert');\n",
              "        buttonEl.style.display =\n",
              "          google.colab.kernel.accessAllowed ? 'block' : 'none';\n",
              "\n",
              "        async function convertToInteractive(key) {\n",
              "          const element = document.querySelector('#df-4b96fdb5-1cfc-46cc-90ac-429c6af58429');\n",
              "          const dataTable =\n",
              "            await google.colab.kernel.invokeFunction('convertToInteractive',\n",
              "                                                     [key], {});\n",
              "          if (!dataTable) return;\n",
              "\n",
              "          const docLinkHtml = 'Like what you see? Visit the ' +\n",
              "            '<a target=\"_blank\" href=https://colab.research.google.com/notebooks/data_table.ipynb>data table notebook</a>'\n",
              "            + ' to learn more about interactive tables.';\n",
              "          element.innerHTML = '';\n",
              "          dataTable['output_type'] = 'display_data';\n",
              "          await google.colab.output.renderOutput(dataTable, element);\n",
              "          const docLink = document.createElement('div');\n",
              "          docLink.innerHTML = docLinkHtml;\n",
              "          element.appendChild(docLink);\n",
              "        }\n",
              "      </script>\n",
              "    </div>\n",
              "  </div>\n",
              "  "
            ],
            "text/plain": [
              "       Report_Number  Offense_Start_DateTime Offense_Parent_Group  \\\n",
              "count         217800                  217800               217800   \n",
              "unique        202927                  135173                   32   \n",
              "top      2019-141012  03/08/2020 12:00:00 AM        LARCENY-THEFT   \n",
              "freq               7                     274                76393   \n",
              "mean             NaN                     NaN                  NaN   \n",
              "std              NaN                     NaN                  NaN   \n",
              "min              NaN                     NaN                  NaN   \n",
              "25%              NaN                     NaN                  NaN   \n",
              "50%              NaN                     NaN                  NaN   \n",
              "75%              NaN                     NaN                  NaN   \n",
              "max              NaN                     NaN                  NaN   \n",
              "\n",
              "                         Offense Offense_Code Precinct  Sector  \\\n",
              "count                     217800       217800   217800  217800   \n",
              "unique                        57           57        8      21   \n",
              "top     Theft From Motor Vehicle          23F        N       U   \n",
              "freq                       29169        29169    73739   19272   \n",
              "mean                         NaN          NaN      NaN     NaN   \n",
              "std                          NaN          NaN      NaN     NaN   \n",
              "min                          NaN          NaN      NaN     NaN   \n",
              "25%                          NaN          NaN      NaN     NaN   \n",
              "50%                          NaN          NaN      NaN     NaN   \n",
              "75%                          NaN          NaN      NaN     NaN   \n",
              "max                          NaN          NaN      NaN     NaN   \n",
              "\n",
              "                       MCPP      100_Block_Address      Longitude  \\\n",
              "count                217800                 204688  217800.000000   \n",
              "unique                   61                  25376            NaN   \n",
              "top     DOWNTOWN COMMERCIAL  14XX BLOCK OF 2ND AVE            NaN   \n",
              "freq                  14371                   1123            NaN   \n",
              "mean                    NaN                    NaN    -114.959527   \n",
              "std                     NaN                    NaN      29.112604   \n",
              "min                     NaN                    NaN    -122.432252   \n",
              "25%                     NaN                    NaN    -122.348355   \n",
              "50%                     NaN                    NaN    -122.327755   \n",
              "75%                     NaN                    NaN    -122.308459   \n",
              "max                     NaN                    NaN       0.000000   \n",
              "\n",
              "             Latitude  \n",
              "count   217800.000000  \n",
              "unique            NaN  \n",
              "top               NaN  \n",
              "freq              NaN  \n",
              "mean        44.754721  \n",
              "std         11.333900  \n",
              "min          0.000000  \n",
              "25%         47.578872  \n",
              "50%         47.615838  \n",
              "75%         47.663996  \n",
              "max         47.735961  "
            ]
          },
          "execution_count": 10,
          "metadata": {},
          "output_type": "execute_result"
        }
      ],
      "source": [
        "FinalCrimeData.describe(include = 'all')"
      ]
    },
    {
      "cell_type": "markdown",
      "metadata": {
        "id": "D71i91y2fWj1"
      },
      "source": [
        "##Checking if there are any na values. "
      ]
    },
    {
      "cell_type": "code",
      "execution_count": 18,
      "metadata": {
        "colab": {
          "base_uri": "https://localhost:8080/"
        },
        "id": "KvpQH96ffBBE",
        "outputId": "74d98778-41af-4e4c-9289-687b7acd624f"
      },
      "outputs": [
        {
          "data": {
            "text/plain": [
              "Report_Number                 0\n",
              "Offense_Start_DateTime        0\n",
              "Offense_Parent_Group          0\n",
              "Offense                       0\n",
              "Offense_Code                  0\n",
              "Precinct                      0\n",
              "Sector                        0\n",
              "MCPP                          0\n",
              "100_Block_Address         13112\n",
              "Longitude                     0\n",
              "Latitude                      0\n",
              "dtype: int64"
            ]
          },
          "execution_count": 18,
          "metadata": {},
          "output_type": "execute_result"
        }
      ],
      "source": [
        "FinalCrimeData.isna().sum()"
      ]
    },
    {
      "cell_type": "markdown",
      "metadata": {
        "id": "_l9gOftmfpPs"
      },
      "source": [
        "##Returns the number of unique entries over columns or rows\n"
      ]
    },
    {
      "cell_type": "code",
      "execution_count": 19,
      "metadata": {
        "colab": {
          "base_uri": "https://localhost:8080/"
        },
        "id": "AMak5ZmKfe0S",
        "outputId": "1b8f05c5-ec02-4a1a-f1d4-d792097a9b48"
      },
      "outputs": [
        {
          "data": {
            "text/plain": [
              "Report_Number             202927\n",
              "Offense_Start_DateTime    135173\n",
              "Offense_Parent_Group          32\n",
              "Offense                       57\n",
              "Offense_Code                  57\n",
              "Precinct                       8\n",
              "Sector                        21\n",
              "MCPP                          61\n",
              "100_Block_Address          25376\n",
              "Longitude                  31012\n",
              "Latitude                   25594\n",
              "dtype: int64"
            ]
          },
          "execution_count": 19,
          "metadata": {},
          "output_type": "execute_result"
        }
      ],
      "source": [
        "FinalCrimeData.nunique( )"
      ]
    },
    {
      "cell_type": "markdown",
      "metadata": {
        "id": "DIhk3z5dhwOM"
      },
      "source": [
        "##Checking for duplicate rows"
      ]
    },
    {
      "cell_type": "code",
      "execution_count": 15,
      "metadata": {
        "colab": {
          "base_uri": "https://localhost:8080/"
        },
        "id": "z1JuuMKKfx6G",
        "outputId": "79d296a5-51c3-48ef-e09d-168ab64ea3bc"
      },
      "outputs": [
        {
          "name": "stdout",
          "output_type": "stream",
          "text": [
            "211\n"
          ]
        }
      ],
      "source": [
        "dup = FinalCrimeData.duplicated()\n",
        "print(dup.sum())"
      ]
    },
    {
      "cell_type": "markdown",
      "metadata": {
        "id": "nJflLVISh1EI"
      },
      "source": [
        "##Dropping duplicate rows"
      ]
    },
    {
      "cell_type": "code",
      "execution_count": 11,
      "metadata": {
        "colab": {
          "base_uri": "https://localhost:8080/"
        },
        "id": "xUUq8nHtht2z",
        "outputId": "990d0043-e1ab-4a51-c265-514c5f2b705d"
      },
      "outputs": [
        {
          "data": {
            "text/plain": [
              "(217589, 11)"
            ]
          },
          "execution_count": 11,
          "metadata": {},
          "output_type": "execute_result"
        }
      ],
      "source": [
        "FinalCrimeData.drop_duplicates(keep = 'first', inplace = True)\n",
        "\n",
        "FinalCrimeData.shape"
      ]
    },
    {
      "cell_type": "markdown",
      "metadata": {
        "id": "K6EBb79ukcbu"
      },
      "source": [
        "##Data types of each column"
      ]
    },
    {
      "cell_type": "code",
      "execution_count": 22,
      "metadata": {
        "colab": {
          "base_uri": "https://localhost:8080/"
        },
        "id": "68t1-XKzjWzo",
        "outputId": "f65b62fb-9602-44f8-f987-baf9b243b35a"
      },
      "outputs": [
        {
          "data": {
            "text/plain": [
              "Report_Number              object\n",
              "Offense_Start_DateTime     object\n",
              "Offense_Parent_Group       object\n",
              "Offense                    object\n",
              "Offense_Code               object\n",
              "Precinct                   object\n",
              "Sector                     object\n",
              "MCPP                       object\n",
              "100_Block_Address          object\n",
              "Longitude                 float64\n",
              "Latitude                  float64\n",
              "dtype: object"
            ]
          },
          "execution_count": 22,
          "metadata": {},
          "output_type": "execute_result"
        }
      ],
      "source": [
        "FinalCrimeData.dtypes"
      ]
    },
    {
      "cell_type": "markdown",
      "metadata": {
        "id": "oFJHEqIXwoaM"
      },
      "source": [
        "##Finidng mean and median for numeric columns"
      ]
    },
    {
      "cell_type": "code",
      "execution_count": 23,
      "metadata": {
        "colab": {
          "base_uri": "https://localhost:8080/"
        },
        "id": "wPTttIe3km8K",
        "outputId": "60448238-bad2-4de0-a537-3a40b9b10c70"
      },
      "outputs": [
        {
          "data": {
            "text/plain": [
              "Longitude   -114.954065\n",
              "Latitude      44.752599\n",
              "dtype: float64"
            ]
          },
          "execution_count": 23,
          "metadata": {},
          "output_type": "execute_result"
        }
      ],
      "source": [
        "FinalCrimeData.mean(numeric_only = True)"
      ]
    },
    {
      "cell_type": "code",
      "execution_count": 24,
      "metadata": {
        "colab": {
          "base_uri": "https://localhost:8080/"
        },
        "id": "MnmWRN41lpdM",
        "outputId": "478a3f81-9f0e-421f-9339-3cd47971e16e"
      },
      "outputs": [
        {
          "data": {
            "text/plain": [
              "Longitude   -122.327755\n",
              "Latitude      47.615848\n",
              "dtype: float64"
            ]
          },
          "execution_count": 24,
          "metadata": {},
          "output_type": "execute_result"
        }
      ],
      "source": [
        "FinalCrimeData.median(numeric_only = True)"
      ]
    },
    {
      "cell_type": "markdown",
      "metadata": {
        "id": "_wAxk0WByuv9"
      },
      "source": [
        "##Dimension of the data"
      ]
    },
    {
      "cell_type": "code",
      "execution_count": 25,
      "metadata": {
        "colab": {
          "base_uri": "https://localhost:8080/"
        },
        "id": "5zdWmZAHl9Kq",
        "outputId": "4a353dff-3438-4d12-9992-97b25e6b9dd5"
      },
      "outputs": [
        {
          "data": {
            "text/plain": [
              "2"
            ]
          },
          "execution_count": 25,
          "metadata": {},
          "output_type": "execute_result"
        }
      ],
      "source": [
        "FinalCrimeData.ndim"
      ]
    },
    {
      "cell_type": "markdown",
      "metadata": {
        "id": "iGvoVIxgkK3_"
      },
      "source": [
        "## Adding Area_Count and Crime_Count to calculate Safe neighborhood as Response variable. \n",
        "## This will be used to predict whether the area is a safe neighborhood or not.\n",
        "## Considering Threshold of 5000 for calculating Safe neighborhood. If the area count value is less than 5000 it is a safe neighborhood."
      ]
    },
    {
      "cell_type": "code",
      "execution_count": 12,
      "metadata": {
        "colab": {
          "base_uri": "https://localhost:8080/",
          "height": 678
        },
        "id": "T9Q6NuNUYuh-",
        "outputId": "a87860f8-6717-4a25-ffd5-30565e24e98b"
      },
      "outputs": [
        {
          "data": {
            "text/html": [
              "\n",
              "  <div id=\"df-35a7e818-3d9b-414f-bc12-dcb7a3d06cdc\">\n",
              "    <div class=\"colab-df-container\">\n",
              "      <div>\n",
              "<style scoped>\n",
              "    .dataframe tbody tr th:only-of-type {\n",
              "        vertical-align: middle;\n",
              "    }\n",
              "\n",
              "    .dataframe tbody tr th {\n",
              "        vertical-align: top;\n",
              "    }\n",
              "\n",
              "    .dataframe thead th {\n",
              "        text-align: right;\n",
              "    }\n",
              "</style>\n",
              "<table border=\"1\" class=\"dataframe\">\n",
              "  <thead>\n",
              "    <tr style=\"text-align: right;\">\n",
              "      <th></th>\n",
              "      <th>Report_Number</th>\n",
              "      <th>Offense_Start_DateTime</th>\n",
              "      <th>Offense_Parent_Group</th>\n",
              "      <th>Offense</th>\n",
              "      <th>Offense_Code</th>\n",
              "      <th>Precinct</th>\n",
              "      <th>Sector</th>\n",
              "      <th>MCPP</th>\n",
              "      <th>100_Block_Address</th>\n",
              "      <th>Longitude</th>\n",
              "      <th>Latitude</th>\n",
              "      <th>Area_Count</th>\n",
              "      <th>Crime_Count</th>\n",
              "      <th>Safe_Neighborhood</th>\n",
              "    </tr>\n",
              "  </thead>\n",
              "  <tbody>\n",
              "    <tr>\n",
              "      <th>0</th>\n",
              "      <td>2020-044620</td>\n",
              "      <td>02/05/2020 10:10:00 AM</td>\n",
              "      <td>DRUG/NARCOTIC OFFENSES</td>\n",
              "      <td>Drug/Narcotic Violations</td>\n",
              "      <td>35A</td>\n",
              "      <td>W</td>\n",
              "      <td>Q</td>\n",
              "      <td>MAGNOLIA</td>\n",
              "      <td>32XX BLOCK OF 23RD AVE W</td>\n",
              "      <td>-122.385974</td>\n",
              "      <td>47.649387</td>\n",
              "      <td>4007</td>\n",
              "      <td>16</td>\n",
              "      <td>1</td>\n",
              "    </tr>\n",
              "    <tr>\n",
              "      <th>1</th>\n",
              "      <td>2020-044452</td>\n",
              "      <td>02/03/2020 08:00:00 AM</td>\n",
              "      <td>LARCENY-THEFT</td>\n",
              "      <td>Theft of Motor Vehicle Parts or Accessories</td>\n",
              "      <td>23G</td>\n",
              "      <td>N</td>\n",
              "      <td>J</td>\n",
              "      <td>ROOSEVELT/RAVENNA</td>\n",
              "      <td>63XX BLOCK OF 5TH AVE NE</td>\n",
              "      <td>-122.323399</td>\n",
              "      <td>47.675118</td>\n",
              "      <td>8799</td>\n",
              "      <td>562</td>\n",
              "      <td>0</td>\n",
              "    </tr>\n",
              "    <tr>\n",
              "      <th>2</th>\n",
              "      <td>2020-044465</td>\n",
              "      <td>02/02/2020 08:30:00 PM</td>\n",
              "      <td>ROBBERY</td>\n",
              "      <td>Robbery</td>\n",
              "      <td>120</td>\n",
              "      <td>N</td>\n",
              "      <td>U</td>\n",
              "      <td>ROOSEVELT/RAVENNA</td>\n",
              "      <td>26TH AVE NE / NE BLAKELEY ST</td>\n",
              "      <td>-122.299552</td>\n",
              "      <td>47.666384</td>\n",
              "      <td>8799</td>\n",
              "      <td>132</td>\n",
              "      <td>0</td>\n",
              "    </tr>\n",
              "    <tr>\n",
              "      <th>3</th>\n",
              "      <td>2020-044225</td>\n",
              "      <td>02/05/2020 01:17:00 AM</td>\n",
              "      <td>DESTRUCTION/DAMAGE/VANDALISM OF PROPERTY</td>\n",
              "      <td>Destruction/Damage/Vandalism of Property</td>\n",
              "      <td>290</td>\n",
              "      <td>W</td>\n",
              "      <td>Q</td>\n",
              "      <td>MAGNOLIA</td>\n",
              "      <td>22XX BLOCK OF W RAYE ST</td>\n",
              "      <td>-122.384865</td>\n",
              "      <td>47.642927</td>\n",
              "      <td>4007</td>\n",
              "      <td>313</td>\n",
              "      <td>1</td>\n",
              "    </tr>\n",
              "    <tr>\n",
              "      <th>4</th>\n",
              "      <td>2020-044076</td>\n",
              "      <td>02/05/2020 12:51:21 AM</td>\n",
              "      <td>DRIVING UNDER THE INFLUENCE</td>\n",
              "      <td>Driving Under the Influence</td>\n",
              "      <td>90D</td>\n",
              "      <td>N</td>\n",
              "      <td>B</td>\n",
              "      <td>BALLARD SOUTH</td>\n",
              "      <td>NW 46TH ST / 8TH AVE NW</td>\n",
              "      <td>-122.366195</td>\n",
              "      <td>47.662193</td>\n",
              "      <td>8577</td>\n",
              "      <td>75</td>\n",
              "      <td>0</td>\n",
              "    </tr>\n",
              "    <tr>\n",
              "      <th>...</th>\n",
              "      <td>...</td>\n",
              "      <td>...</td>\n",
              "      <td>...</td>\n",
              "      <td>...</td>\n",
              "      <td>...</td>\n",
              "      <td>...</td>\n",
              "      <td>...</td>\n",
              "      <td>...</td>\n",
              "      <td>...</td>\n",
              "      <td>...</td>\n",
              "      <td>...</td>\n",
              "      <td>...</td>\n",
              "      <td>...</td>\n",
              "      <td>...</td>\n",
              "    </tr>\n",
              "    <tr>\n",
              "      <th>95</th>\n",
              "      <td>2020-041873</td>\n",
              "      <td>01/31/2020 05:00:00 PM</td>\n",
              "      <td>LARCENY-THEFT</td>\n",
              "      <td>Theft From Motor Vehicle</td>\n",
              "      <td>23F</td>\n",
              "      <td>E</td>\n",
              "      <td>G</td>\n",
              "      <td>JUDKINS PARK/NORTH BEACON HILL</td>\n",
              "      <td>16XX BLOCK OF S JACKSON ST</td>\n",
              "      <td>-122.310925</td>\n",
              "      <td>47.599228</td>\n",
              "      <td>2282</td>\n",
              "      <td>354</td>\n",
              "      <td>1</td>\n",
              "    </tr>\n",
              "    <tr>\n",
              "      <th>96</th>\n",
              "      <td>2020-901670</td>\n",
              "      <td>02/02/2020 04:45:00 PM</td>\n",
              "      <td>LARCENY-THEFT</td>\n",
              "      <td>Theft From Building</td>\n",
              "      <td>23D</td>\n",
              "      <td>W</td>\n",
              "      <td>M</td>\n",
              "      <td>DOWNTOWN COMMERCIAL</td>\n",
              "      <td>15XX BLOCK OF PIKE PL</td>\n",
              "      <td>-122.340631</td>\n",
              "      <td>47.608724</td>\n",
              "      <td>14345</td>\n",
              "      <td>497</td>\n",
              "      <td>0</td>\n",
              "    </tr>\n",
              "    <tr>\n",
              "      <th>97</th>\n",
              "      <td>2020-901669</td>\n",
              "      <td>11/15/2019 08:00:00 PM</td>\n",
              "      <td>LARCENY-THEFT</td>\n",
              "      <td>Theft From Building</td>\n",
              "      <td>23D</td>\n",
              "      <td>W</td>\n",
              "      <td>K</td>\n",
              "      <td>PIONEER SQUARE</td>\n",
              "      <td>8XX BLOCK OF OCCIDENTAL AVE S</td>\n",
              "      <td>-122.333268</td>\n",
              "      <td>47.596783</td>\n",
              "      <td>3278</td>\n",
              "      <td>133</td>\n",
              "      <td>1</td>\n",
              "    </tr>\n",
              "    <tr>\n",
              "      <th>98</th>\n",
              "      <td>2020-901667</td>\n",
              "      <td>02/03/2020 08:30:00 AM</td>\n",
              "      <td>LARCENY-THEFT</td>\n",
              "      <td>Theft From Motor Vehicle</td>\n",
              "      <td>23F</td>\n",
              "      <td>E</td>\n",
              "      <td>E</td>\n",
              "      <td>FIRST HILL</td>\n",
              "      <td>11XX BLOCK OF E MADISON ST</td>\n",
              "      <td>-122.317914</td>\n",
              "      <td>47.612361</td>\n",
              "      <td>7502</td>\n",
              "      <td>734</td>\n",
              "      <td>0</td>\n",
              "    </tr>\n",
              "    <tr>\n",
              "      <th>99</th>\n",
              "      <td>2020-041879</td>\n",
              "      <td>02/03/2020 10:10:00 AM</td>\n",
              "      <td>ROBBERY</td>\n",
              "      <td>Robbery</td>\n",
              "      <td>120</td>\n",
              "      <td>W</td>\n",
              "      <td>Q</td>\n",
              "      <td>MAGNOLIA</td>\n",
              "      <td>24XX BLOCK OF 34TH AVE W</td>\n",
              "      <td>-122.400993</td>\n",
              "      <td>47.640041</td>\n",
              "      <td>4007</td>\n",
              "      <td>26</td>\n",
              "      <td>1</td>\n",
              "    </tr>\n",
              "  </tbody>\n",
              "</table>\n",
              "<p>100 rows × 14 columns</p>\n",
              "</div>\n",
              "      <button class=\"colab-df-convert\" onclick=\"convertToInteractive('df-35a7e818-3d9b-414f-bc12-dcb7a3d06cdc')\"\n",
              "              title=\"Convert this dataframe to an interactive table.\"\n",
              "              style=\"display:none;\">\n",
              "        \n",
              "  <svg xmlns=\"http://www.w3.org/2000/svg\" height=\"24px\"viewBox=\"0 0 24 24\"\n",
              "       width=\"24px\">\n",
              "    <path d=\"M0 0h24v24H0V0z\" fill=\"none\"/>\n",
              "    <path d=\"M18.56 5.44l.94 2.06.94-2.06 2.06-.94-2.06-.94-.94-2.06-.94 2.06-2.06.94zm-11 1L8.5 8.5l.94-2.06 2.06-.94-2.06-.94L8.5 2.5l-.94 2.06-2.06.94zm10 10l.94 2.06.94-2.06 2.06-.94-2.06-.94-.94-2.06-.94 2.06-2.06.94z\"/><path d=\"M17.41 7.96l-1.37-1.37c-.4-.4-.92-.59-1.43-.59-.52 0-1.04.2-1.43.59L10.3 9.45l-7.72 7.72c-.78.78-.78 2.05 0 2.83L4 21.41c.39.39.9.59 1.41.59.51 0 1.02-.2 1.41-.59l7.78-7.78 2.81-2.81c.8-.78.8-2.07 0-2.86zM5.41 20L4 18.59l7.72-7.72 1.47 1.35L5.41 20z\"/>\n",
              "  </svg>\n",
              "      </button>\n",
              "      \n",
              "  <style>\n",
              "    .colab-df-container {\n",
              "      display:flex;\n",
              "      flex-wrap:wrap;\n",
              "      gap: 12px;\n",
              "    }\n",
              "\n",
              "    .colab-df-convert {\n",
              "      background-color: #E8F0FE;\n",
              "      border: none;\n",
              "      border-radius: 50%;\n",
              "      cursor: pointer;\n",
              "      display: none;\n",
              "      fill: #1967D2;\n",
              "      height: 32px;\n",
              "      padding: 0 0 0 0;\n",
              "      width: 32px;\n",
              "    }\n",
              "\n",
              "    .colab-df-convert:hover {\n",
              "      background-color: #E2EBFA;\n",
              "      box-shadow: 0px 1px 2px rgba(60, 64, 67, 0.3), 0px 1px 3px 1px rgba(60, 64, 67, 0.15);\n",
              "      fill: #174EA6;\n",
              "    }\n",
              "\n",
              "    [theme=dark] .colab-df-convert {\n",
              "      background-color: #3B4455;\n",
              "      fill: #D2E3FC;\n",
              "    }\n",
              "\n",
              "    [theme=dark] .colab-df-convert:hover {\n",
              "      background-color: #434B5C;\n",
              "      box-shadow: 0px 1px 3px 1px rgba(0, 0, 0, 0.15);\n",
              "      filter: drop-shadow(0px 1px 2px rgba(0, 0, 0, 0.3));\n",
              "      fill: #FFFFFF;\n",
              "    }\n",
              "  </style>\n",
              "\n",
              "      <script>\n",
              "        const buttonEl =\n",
              "          document.querySelector('#df-35a7e818-3d9b-414f-bc12-dcb7a3d06cdc button.colab-df-convert');\n",
              "        buttonEl.style.display =\n",
              "          google.colab.kernel.accessAllowed ? 'block' : 'none';\n",
              "\n",
              "        async function convertToInteractive(key) {\n",
              "          const element = document.querySelector('#df-35a7e818-3d9b-414f-bc12-dcb7a3d06cdc');\n",
              "          const dataTable =\n",
              "            await google.colab.kernel.invokeFunction('convertToInteractive',\n",
              "                                                     [key], {});\n",
              "          if (!dataTable) return;\n",
              "\n",
              "          const docLinkHtml = 'Like what you see? Visit the ' +\n",
              "            '<a target=\"_blank\" href=https://colab.research.google.com/notebooks/data_table.ipynb>data table notebook</a>'\n",
              "            + ' to learn more about interactive tables.';\n",
              "          element.innerHTML = '';\n",
              "          dataTable['output_type'] = 'display_data';\n",
              "          await google.colab.output.renderOutput(dataTable, element);\n",
              "          const docLink = document.createElement('div');\n",
              "          docLink.innerHTML = docLinkHtml;\n",
              "          element.appendChild(docLink);\n",
              "        }\n",
              "      </script>\n",
              "    </div>\n",
              "  </div>\n",
              "  "
            ],
            "text/plain": [
              "   Report_Number  Offense_Start_DateTime  \\\n",
              "0    2020-044620  02/05/2020 10:10:00 AM   \n",
              "1    2020-044452  02/03/2020 08:00:00 AM   \n",
              "2    2020-044465  02/02/2020 08:30:00 PM   \n",
              "3    2020-044225  02/05/2020 01:17:00 AM   \n",
              "4    2020-044076  02/05/2020 12:51:21 AM   \n",
              "..           ...                     ...   \n",
              "95   2020-041873  01/31/2020 05:00:00 PM   \n",
              "96   2020-901670  02/02/2020 04:45:00 PM   \n",
              "97   2020-901669  11/15/2019 08:00:00 PM   \n",
              "98   2020-901667  02/03/2020 08:30:00 AM   \n",
              "99   2020-041879  02/03/2020 10:10:00 AM   \n",
              "\n",
              "                        Offense_Parent_Group  \\\n",
              "0                     DRUG/NARCOTIC OFFENSES   \n",
              "1                              LARCENY-THEFT   \n",
              "2                                    ROBBERY   \n",
              "3   DESTRUCTION/DAMAGE/VANDALISM OF PROPERTY   \n",
              "4                DRIVING UNDER THE INFLUENCE   \n",
              "..                                       ...   \n",
              "95                             LARCENY-THEFT   \n",
              "96                             LARCENY-THEFT   \n",
              "97                             LARCENY-THEFT   \n",
              "98                             LARCENY-THEFT   \n",
              "99                                   ROBBERY   \n",
              "\n",
              "                                        Offense Offense_Code Precinct Sector  \\\n",
              "0                      Drug/Narcotic Violations          35A        W      Q   \n",
              "1   Theft of Motor Vehicle Parts or Accessories          23G        N      J   \n",
              "2                                       Robbery          120        N      U   \n",
              "3      Destruction/Damage/Vandalism of Property          290        W      Q   \n",
              "4                   Driving Under the Influence          90D        N      B   \n",
              "..                                          ...          ...      ...    ...   \n",
              "95                     Theft From Motor Vehicle          23F        E      G   \n",
              "96                          Theft From Building          23D        W      M   \n",
              "97                          Theft From Building          23D        W      K   \n",
              "98                     Theft From Motor Vehicle          23F        E      E   \n",
              "99                                      Robbery          120        W      Q   \n",
              "\n",
              "                              MCPP              100_Block_Address   Longitude  \\\n",
              "0                         MAGNOLIA       32XX BLOCK OF 23RD AVE W -122.385974   \n",
              "1                ROOSEVELT/RAVENNA       63XX BLOCK OF 5TH AVE NE -122.323399   \n",
              "2                ROOSEVELT/RAVENNA   26TH AVE NE / NE BLAKELEY ST -122.299552   \n",
              "3                         MAGNOLIA        22XX BLOCK OF W RAYE ST -122.384865   \n",
              "4                    BALLARD SOUTH        NW 46TH ST / 8TH AVE NW -122.366195   \n",
              "..                             ...                            ...         ...   \n",
              "95  JUDKINS PARK/NORTH BEACON HILL     16XX BLOCK OF S JACKSON ST -122.310925   \n",
              "96             DOWNTOWN COMMERCIAL          15XX BLOCK OF PIKE PL -122.340631   \n",
              "97                  PIONEER SQUARE  8XX BLOCK OF OCCIDENTAL AVE S -122.333268   \n",
              "98                      FIRST HILL     11XX BLOCK OF E MADISON ST -122.317914   \n",
              "99                        MAGNOLIA       24XX BLOCK OF 34TH AVE W -122.400993   \n",
              "\n",
              "     Latitude  Area_Count  Crime_Count  Safe_Neighborhood  \n",
              "0   47.649387        4007           16                  1  \n",
              "1   47.675118        8799          562                  0  \n",
              "2   47.666384        8799          132                  0  \n",
              "3   47.642927        4007          313                  1  \n",
              "4   47.662193        8577           75                  0  \n",
              "..        ...         ...          ...                ...  \n",
              "95  47.599228        2282          354                  1  \n",
              "96  47.608724       14345          497                  0  \n",
              "97  47.596783        3278          133                  1  \n",
              "98  47.612361        7502          734                  0  \n",
              "99  47.640041        4007           26                  1  \n",
              "\n",
              "[100 rows x 14 columns]"
            ]
          },
          "execution_count": 12,
          "metadata": {},
          "output_type": "execute_result"
        }
      ],
      "source": [
        "FinalCrimeData['Area_Count'] = FinalCrimeData.groupby('MCPP')['MCPP'].transform('count')\n",
        "FinalCrimeData['Crime_Count'] = FinalCrimeData.groupby(['MCPP','Offense'])['MCPP'].transform('count')\n",
        "FinalCrimeData['Safe_Neighborhood'] = [1 if x <= 5000 else 0 for x in FinalCrimeData['Area_Count']]\n",
        "FinalCrimeData.head(100)"
      ]
    },
    {
      "cell_type": "code",
      "execution_count": 27,
      "metadata": {
        "colab": {
          "base_uri": "https://localhost:8080/"
        },
        "id": "27Ts53fo8H5F",
        "outputId": "ad8c0632-348f-4340-aaae-7a424b0c3c6b"
      },
      "outputs": [
        {
          "data": {
            "text/plain": [
              "(217589, 14)"
            ]
          },
          "execution_count": 27,
          "metadata": {},
          "output_type": "execute_result"
        }
      ],
      "source": [
        "FinalCrimeData.shape"
      ]
    },
    {
      "cell_type": "code",
      "execution_count": 13,
      "metadata": {
        "colab": {
          "base_uri": "https://localhost:8080/",
          "height": 713
        },
        "id": "Fr6w9iwM8OuU",
        "outputId": "bbf1fe65-3be3-4721-aed4-61f7066d3d8d"
      },
      "outputs": [
        {
          "data": {
            "text/html": [
              "\n",
              "  <div id=\"df-58eacb24-b067-4759-88d9-81a5bfa72a99\">\n",
              "    <div class=\"colab-df-container\">\n",
              "      <div>\n",
              "<style scoped>\n",
              "    .dataframe tbody tr th:only-of-type {\n",
              "        vertical-align: middle;\n",
              "    }\n",
              "\n",
              "    .dataframe tbody tr th {\n",
              "        vertical-align: top;\n",
              "    }\n",
              "\n",
              "    .dataframe thead th {\n",
              "        text-align: right;\n",
              "    }\n",
              "</style>\n",
              "<table border=\"1\" class=\"dataframe\">\n",
              "  <thead>\n",
              "    <tr style=\"text-align: right;\">\n",
              "      <th></th>\n",
              "      <th>Report_Number</th>\n",
              "      <th>Offense_Start_DateTime</th>\n",
              "      <th>Offense_Parent_Group</th>\n",
              "      <th>Offense</th>\n",
              "      <th>Offense_Code</th>\n",
              "      <th>Precinct</th>\n",
              "      <th>Sector</th>\n",
              "      <th>MCPP</th>\n",
              "      <th>100_Block_Address</th>\n",
              "      <th>Longitude</th>\n",
              "      <th>Latitude</th>\n",
              "      <th>Area_Count</th>\n",
              "      <th>Crime_Count</th>\n",
              "      <th>Safe_Neighborhood</th>\n",
              "    </tr>\n",
              "  </thead>\n",
              "  <tbody>\n",
              "    <tr>\n",
              "      <th>826638</th>\n",
              "      <td>2020-227024</td>\n",
              "      <td>07/30/2020 01:43:00 PM</td>\n",
              "      <td>LARCENY-THEFT</td>\n",
              "      <td>Shoplifting</td>\n",
              "      <td>23C</td>\n",
              "      <td>W</td>\n",
              "      <td>M</td>\n",
              "      <td>DOWNTOWN COMMERCIAL</td>\n",
              "      <td>6XX BLOCK OF PINE ST</td>\n",
              "      <td>-122.334818</td>\n",
              "      <td>47.612368</td>\n",
              "      <td>14345</td>\n",
              "      <td>1907</td>\n",
              "      <td>0</td>\n",
              "    </tr>\n",
              "    <tr>\n",
              "      <th>909992</th>\n",
              "      <td>2019-900276</td>\n",
              "      <td>12/30/2018 07:50:00 PM</td>\n",
              "      <td>LARCENY-THEFT</td>\n",
              "      <td>All Other Larceny</td>\n",
              "      <td>23H</td>\n",
              "      <td>W</td>\n",
              "      <td>M</td>\n",
              "      <td>DOWNTOWN COMMERCIAL</td>\n",
              "      <td>6XX BLOCK OF PINE ST</td>\n",
              "      <td>-122.334818</td>\n",
              "      <td>47.612368</td>\n",
              "      <td>14345</td>\n",
              "      <td>830</td>\n",
              "      <td>0</td>\n",
              "    </tr>\n",
              "    <tr>\n",
              "      <th>38168</th>\n",
              "      <td>2019-043020</td>\n",
              "      <td>02/02/2019 05:22:00 AM</td>\n",
              "      <td>DESTRUCTION/DAMAGE/VANDALISM OF PROPERTY</td>\n",
              "      <td>Destruction/Damage/Vandalism of Property</td>\n",
              "      <td>290</td>\n",
              "      <td>W</td>\n",
              "      <td>K</td>\n",
              "      <td>DOWNTOWN COMMERCIAL</td>\n",
              "      <td>CHERRY ST / 2ND AVE</td>\n",
              "      <td>-122.333172</td>\n",
              "      <td>47.603019</td>\n",
              "      <td>14345</td>\n",
              "      <td>1156</td>\n",
              "      <td>0</td>\n",
              "    </tr>\n",
              "    <tr>\n",
              "      <th>832789</th>\n",
              "      <td>2020-258645</td>\n",
              "      <td>09/04/2020 02:10:00 PM</td>\n",
              "      <td>ASSAULT OFFENSES</td>\n",
              "      <td>Simple Assault</td>\n",
              "      <td>13B</td>\n",
              "      <td>W</td>\n",
              "      <td>M</td>\n",
              "      <td>DOWNTOWN COMMERCIAL</td>\n",
              "      <td>4XX BLOCK OF PINE ST</td>\n",
              "      <td>-122.337320</td>\n",
              "      <td>47.611321</td>\n",
              "      <td>14345</td>\n",
              "      <td>1499</td>\n",
              "      <td>0</td>\n",
              "    </tr>\n",
              "    <tr>\n",
              "      <th>910046</th>\n",
              "      <td>2019-900178</td>\n",
              "      <td>10/01/2018 12:00:00 AM</td>\n",
              "      <td>FRAUD OFFENSES</td>\n",
              "      <td>Impersonation</td>\n",
              "      <td>26C</td>\n",
              "      <td>W</td>\n",
              "      <td>M</td>\n",
              "      <td>DOWNTOWN COMMERCIAL</td>\n",
              "      <td>1XX BLOCK OF UNIVERSITY ST</td>\n",
              "      <td>-122.340136</td>\n",
              "      <td>47.606024</td>\n",
              "      <td>14345</td>\n",
              "      <td>46</td>\n",
              "      <td>0</td>\n",
              "    </tr>\n",
              "    <tr>\n",
              "      <th>...</th>\n",
              "      <td>...</td>\n",
              "      <td>...</td>\n",
              "      <td>...</td>\n",
              "      <td>...</td>\n",
              "      <td>...</td>\n",
              "      <td>...</td>\n",
              "      <td>...</td>\n",
              "      <td>...</td>\n",
              "      <td>...</td>\n",
              "      <td>...</td>\n",
              "      <td>...</td>\n",
              "      <td>...</td>\n",
              "      <td>...</td>\n",
              "      <td>...</td>\n",
              "    </tr>\n",
              "    <tr>\n",
              "      <th>39250</th>\n",
              "      <td>2019-031145</td>\n",
              "      <td>01/24/2019 03:00:00 AM</td>\n",
              "      <td>MOTOR VEHICLE THEFT</td>\n",
              "      <td>Motor Vehicle Theft</td>\n",
              "      <td>240</td>\n",
              "      <td>SW</td>\n",
              "      <td>W</td>\n",
              "      <td>COMMERCIAL HARBOR ISLAND</td>\n",
              "      <td>27XX BLOCK OF 16TH AVE SW</td>\n",
              "      <td>-122.355662</td>\n",
              "      <td>47.576191</td>\n",
              "      <td>96</td>\n",
              "      <td>12</td>\n",
              "      <td>1</td>\n",
              "    </tr>\n",
              "    <tr>\n",
              "      <th>833026</th>\n",
              "      <td>2020-257574</td>\n",
              "      <td>09/03/2020 05:30:00 AM</td>\n",
              "      <td>DESTRUCTION/DAMAGE/VANDALISM OF PROPERTY</td>\n",
              "      <td>Destruction/Damage/Vandalism of Property</td>\n",
              "      <td>290</td>\n",
              "      <td>SW</td>\n",
              "      <td>W</td>\n",
              "      <td>COMMERCIAL HARBOR ISLAND</td>\n",
              "      <td>18XX BLOCK OF 16TH AVE SW</td>\n",
              "      <td>-122.354942</td>\n",
              "      <td>47.585356</td>\n",
              "      <td>96</td>\n",
              "      <td>12</td>\n",
              "      <td>1</td>\n",
              "    </tr>\n",
              "    <tr>\n",
              "      <th>792222</th>\n",
              "      <td>2019-459785</td>\n",
              "      <td>12/12/2019 04:29:00 PM</td>\n",
              "      <td>ROBBERY</td>\n",
              "      <td>Robbery</td>\n",
              "      <td>120</td>\n",
              "      <td>SW</td>\n",
              "      <td>W</td>\n",
              "      <td>COMMERCIAL HARBOR ISLAND</td>\n",
              "      <td>NaN</td>\n",
              "      <td>0.000000</td>\n",
              "      <td>0.000000</td>\n",
              "      <td>96</td>\n",
              "      <td>2</td>\n",
              "      <td>1</td>\n",
              "    </tr>\n",
              "    <tr>\n",
              "      <th>919268</th>\n",
              "      <td>2021-154783</td>\n",
              "      <td>06/21/2021 06:30:00 PM</td>\n",
              "      <td>MOTOR VEHICLE THEFT</td>\n",
              "      <td>Motor Vehicle Theft</td>\n",
              "      <td>240</td>\n",
              "      <td>W</td>\n",
              "      <td>M</td>\n",
              "      <td>SlU/CASCADE</td>\n",
              "      <td>3RD AVE / VIRGINIA ST</td>\n",
              "      <td>-122.340892</td>\n",
              "      <td>47.612398</td>\n",
              "      <td>1</td>\n",
              "      <td>1</td>\n",
              "      <td>1</td>\n",
              "    </tr>\n",
              "    <tr>\n",
              "      <th>911815</th>\n",
              "      <td>2021-310142</td>\n",
              "      <td>11/21/2021 07:00:00 PM</td>\n",
              "      <td>LARCENY-THEFT</td>\n",
              "      <td>Theft From Motor Vehicle</td>\n",
              "      <td>23F</td>\n",
              "      <td>&lt;Null&gt;</td>\n",
              "      <td>&lt;Null&gt;</td>\n",
              "      <td>&lt;Null&gt;</td>\n",
              "      <td>73XX BLOCK OF 9TH AVE NW</td>\n",
              "      <td>-122.368335</td>\n",
              "      <td>47.682351</td>\n",
              "      <td>1</td>\n",
              "      <td>1</td>\n",
              "      <td>1</td>\n",
              "    </tr>\n",
              "  </tbody>\n",
              "</table>\n",
              "<p>217589 rows × 14 columns</p>\n",
              "</div>\n",
              "      <button class=\"colab-df-convert\" onclick=\"convertToInteractive('df-58eacb24-b067-4759-88d9-81a5bfa72a99')\"\n",
              "              title=\"Convert this dataframe to an interactive table.\"\n",
              "              style=\"display:none;\">\n",
              "        \n",
              "  <svg xmlns=\"http://www.w3.org/2000/svg\" height=\"24px\"viewBox=\"0 0 24 24\"\n",
              "       width=\"24px\">\n",
              "    <path d=\"M0 0h24v24H0V0z\" fill=\"none\"/>\n",
              "    <path d=\"M18.56 5.44l.94 2.06.94-2.06 2.06-.94-2.06-.94-.94-2.06-.94 2.06-2.06.94zm-11 1L8.5 8.5l.94-2.06 2.06-.94-2.06-.94L8.5 2.5l-.94 2.06-2.06.94zm10 10l.94 2.06.94-2.06 2.06-.94-2.06-.94-.94-2.06-.94 2.06-2.06.94z\"/><path d=\"M17.41 7.96l-1.37-1.37c-.4-.4-.92-.59-1.43-.59-.52 0-1.04.2-1.43.59L10.3 9.45l-7.72 7.72c-.78.78-.78 2.05 0 2.83L4 21.41c.39.39.9.59 1.41.59.51 0 1.02-.2 1.41-.59l7.78-7.78 2.81-2.81c.8-.78.8-2.07 0-2.86zM5.41 20L4 18.59l7.72-7.72 1.47 1.35L5.41 20z\"/>\n",
              "  </svg>\n",
              "      </button>\n",
              "      \n",
              "  <style>\n",
              "    .colab-df-container {\n",
              "      display:flex;\n",
              "      flex-wrap:wrap;\n",
              "      gap: 12px;\n",
              "    }\n",
              "\n",
              "    .colab-df-convert {\n",
              "      background-color: #E8F0FE;\n",
              "      border: none;\n",
              "      border-radius: 50%;\n",
              "      cursor: pointer;\n",
              "      display: none;\n",
              "      fill: #1967D2;\n",
              "      height: 32px;\n",
              "      padding: 0 0 0 0;\n",
              "      width: 32px;\n",
              "    }\n",
              "\n",
              "    .colab-df-convert:hover {\n",
              "      background-color: #E2EBFA;\n",
              "      box-shadow: 0px 1px 2px rgba(60, 64, 67, 0.3), 0px 1px 3px 1px rgba(60, 64, 67, 0.15);\n",
              "      fill: #174EA6;\n",
              "    }\n",
              "\n",
              "    [theme=dark] .colab-df-convert {\n",
              "      background-color: #3B4455;\n",
              "      fill: #D2E3FC;\n",
              "    }\n",
              "\n",
              "    [theme=dark] .colab-df-convert:hover {\n",
              "      background-color: #434B5C;\n",
              "      box-shadow: 0px 1px 3px 1px rgba(0, 0, 0, 0.15);\n",
              "      filter: drop-shadow(0px 1px 2px rgba(0, 0, 0, 0.3));\n",
              "      fill: #FFFFFF;\n",
              "    }\n",
              "  </style>\n",
              "\n",
              "      <script>\n",
              "        const buttonEl =\n",
              "          document.querySelector('#df-58eacb24-b067-4759-88d9-81a5bfa72a99 button.colab-df-convert');\n",
              "        buttonEl.style.display =\n",
              "          google.colab.kernel.accessAllowed ? 'block' : 'none';\n",
              "\n",
              "        async function convertToInteractive(key) {\n",
              "          const element = document.querySelector('#df-58eacb24-b067-4759-88d9-81a5bfa72a99');\n",
              "          const dataTable =\n",
              "            await google.colab.kernel.invokeFunction('convertToInteractive',\n",
              "                                                     [key], {});\n",
              "          if (!dataTable) return;\n",
              "\n",
              "          const docLinkHtml = 'Like what you see? Visit the ' +\n",
              "            '<a target=\"_blank\" href=https://colab.research.google.com/notebooks/data_table.ipynb>data table notebook</a>'\n",
              "            + ' to learn more about interactive tables.';\n",
              "          element.innerHTML = '';\n",
              "          dataTable['output_type'] = 'display_data';\n",
              "          await google.colab.output.renderOutput(dataTable, element);\n",
              "          const docLink = document.createElement('div');\n",
              "          docLink.innerHTML = docLinkHtml;\n",
              "          element.appendChild(docLink);\n",
              "        }\n",
              "      </script>\n",
              "    </div>\n",
              "  </div>\n",
              "  "
            ],
            "text/plain": [
              "       Report_Number  Offense_Start_DateTime  \\\n",
              "826638   2020-227024  07/30/2020 01:43:00 PM   \n",
              "909992   2019-900276  12/30/2018 07:50:00 PM   \n",
              "38168    2019-043020  02/02/2019 05:22:00 AM   \n",
              "832789   2020-258645  09/04/2020 02:10:00 PM   \n",
              "910046   2019-900178  10/01/2018 12:00:00 AM   \n",
              "...              ...                     ...   \n",
              "39250    2019-031145  01/24/2019 03:00:00 AM   \n",
              "833026   2020-257574  09/03/2020 05:30:00 AM   \n",
              "792222   2019-459785  12/12/2019 04:29:00 PM   \n",
              "919268   2021-154783  06/21/2021 06:30:00 PM   \n",
              "911815   2021-310142  11/21/2021 07:00:00 PM   \n",
              "\n",
              "                            Offense_Parent_Group  \\\n",
              "826638                             LARCENY-THEFT   \n",
              "909992                             LARCENY-THEFT   \n",
              "38168   DESTRUCTION/DAMAGE/VANDALISM OF PROPERTY   \n",
              "832789                          ASSAULT OFFENSES   \n",
              "910046                            FRAUD OFFENSES   \n",
              "...                                          ...   \n",
              "39250                        MOTOR VEHICLE THEFT   \n",
              "833026  DESTRUCTION/DAMAGE/VANDALISM OF PROPERTY   \n",
              "792222                                   ROBBERY   \n",
              "919268                       MOTOR VEHICLE THEFT   \n",
              "911815                             LARCENY-THEFT   \n",
              "\n",
              "                                         Offense Offense_Code Precinct  \\\n",
              "826638                               Shoplifting          23C        W   \n",
              "909992                         All Other Larceny          23H        W   \n",
              "38168   Destruction/Damage/Vandalism of Property          290        W   \n",
              "832789                            Simple Assault          13B        W   \n",
              "910046                             Impersonation          26C        W   \n",
              "...                                          ...          ...      ...   \n",
              "39250                        Motor Vehicle Theft          240       SW   \n",
              "833026  Destruction/Damage/Vandalism of Property          290       SW   \n",
              "792222                                   Robbery          120       SW   \n",
              "919268                       Motor Vehicle Theft          240        W   \n",
              "911815                  Theft From Motor Vehicle          23F   <Null>   \n",
              "\n",
              "        Sector                      MCPP           100_Block_Address  \\\n",
              "826638       M       DOWNTOWN COMMERCIAL        6XX BLOCK OF PINE ST   \n",
              "909992       M       DOWNTOWN COMMERCIAL        6XX BLOCK OF PINE ST   \n",
              "38168        K       DOWNTOWN COMMERCIAL         CHERRY ST / 2ND AVE   \n",
              "832789       M       DOWNTOWN COMMERCIAL        4XX BLOCK OF PINE ST   \n",
              "910046       M       DOWNTOWN COMMERCIAL  1XX BLOCK OF UNIVERSITY ST   \n",
              "...        ...                       ...                         ...   \n",
              "39250        W  COMMERCIAL HARBOR ISLAND   27XX BLOCK OF 16TH AVE SW   \n",
              "833026       W  COMMERCIAL HARBOR ISLAND   18XX BLOCK OF 16TH AVE SW   \n",
              "792222       W  COMMERCIAL HARBOR ISLAND                         NaN   \n",
              "919268       M               SlU/CASCADE       3RD AVE / VIRGINIA ST   \n",
              "911815  <Null>                    <Null>    73XX BLOCK OF 9TH AVE NW   \n",
              "\n",
              "         Longitude   Latitude  Area_Count  Crime_Count  Safe_Neighborhood  \n",
              "826638 -122.334818  47.612368       14345         1907                  0  \n",
              "909992 -122.334818  47.612368       14345          830                  0  \n",
              "38168  -122.333172  47.603019       14345         1156                  0  \n",
              "832789 -122.337320  47.611321       14345         1499                  0  \n",
              "910046 -122.340136  47.606024       14345           46                  0  \n",
              "...            ...        ...         ...          ...                ...  \n",
              "39250  -122.355662  47.576191          96           12                  1  \n",
              "833026 -122.354942  47.585356          96           12                  1  \n",
              "792222    0.000000   0.000000          96            2                  1  \n",
              "919268 -122.340892  47.612398           1            1                  1  \n",
              "911815 -122.368335  47.682351           1            1                  1  \n",
              "\n",
              "[217589 rows x 14 columns]"
            ]
          },
          "execution_count": 13,
          "metadata": {},
          "output_type": "execute_result"
        }
      ],
      "source": [
        "FinalCrimeData.sort_values(by='Area_Count', ascending=False)"
      ]
    },
    {
      "cell_type": "markdown",
      "metadata": {
        "id": "74ti3jqOxC0x"
      },
      "source": [
        "##Box plot for area wise crimes"
      ]
    },
    {
      "cell_type": "code",
      "execution_count": null,
      "metadata": {
        "colab": {
          "base_uri": "https://localhost:8080/",
          "height": 266
        },
        "id": "2ramVw3bmljF",
        "outputId": "e8c75a56-d017-4d23-9b68-51c5d7df1d27"
      },
      "outputs": [
        {
          "data": {
            "image/png": "[encoded data removed]",
            "text/plain": [
              "<Figure size 432x288 with 1 Axes>"
            ]
          },
          "metadata": {
            "needs_background": "light"
          },
          "output_type": "display_data"
        }
      ],
      "source": [
        "FinalCrimeData.boxplot(column='Area_Count')\n",
        "plt.show()"
      ]
    },
    {
      "cell_type": "markdown",
      "metadata": {
        "id": "pwaxmBSPxNB1"
      },
      "source": [
        "##Box plot for crime counts for each offense type in different areas"
      ]
    },
    {
      "cell_type": "code",
      "execution_count": null,
      "metadata": {
        "colab": {
          "base_uri": "https://localhost:8080/",
          "height": 266
        },
        "id": "pFXtcUzDoYI9",
        "outputId": "43233d7e-5535-4c11-be25-8d2acaf4133a"
      },
      "outputs": [
        {
          "data": {
            "image/png": "[encoded data removed]",
            "text/plain": [
              "<Figure size 432x288 with 1 Axes>"
            ]
          },
          "metadata": {
            "needs_background": "light"
          },
          "output_type": "display_data"
        }
      ],
      "source": [
        "FinalCrimeData.boxplot(column='Crime_Count')\n",
        "plt.show()"
      ]
    },
    {
      "cell_type": "markdown",
      "metadata": {
        "id": "j5LmQuAqxki7"
      },
      "source": [
        "##Bar plot for top 10 crime areas"
      ]
    },
    {
      "cell_type": "code",
      "execution_count": 29,
      "metadata": {
        "colab": {
          "base_uri": "https://localhost:8080/",
          "height": 387
        },
        "id": "ysSjTH1vpq1K",
        "outputId": "36178c73-5832-4c7c-bf07-2abaea6d7d93"
      },
      "outputs": [
        {
          "data": {
            "text/plain": [
              "Text(0.5, 1.0, 'Top 10 Crime Areas')"
            ]
          },
          "execution_count": 29,
          "metadata": {},
          "output_type": "execute_result"
        },
        {
          "data": {
            "image/png": "[encoded data removed]",
            "text/plain": [
              "<Figure size 1080x288 with 1 Axes>"
            ]
          },
          "metadata": {
            "needs_background": "light"
          },
          "output_type": "display_data"
        }
      ],
      "source": [
        "from numpy.ma.core import count\n",
        "x = FinalCrimeData.groupby('MCPP')['MCPP'].count().sort_values().tail(10)\n",
        "ax= x.plot(kind='bar',figsize = (15,4) )\n",
        "plt.xticks(rotation=30, horizontalalignment=\"center\",size = 8)\n",
        "plt.xlabel(\"Areas\")\n",
        "ax.set_title(\"Top 10 Crime Areas\")\n"
      ]
    },
    {
      "cell_type": "markdown",
      "metadata": {
        "id": "joQq0qFIxtV8"
      },
      "source": [
        "##Bar plot for top 10 offense type in Downtown Commercial(top crime area)"
      ]
    },
    {
      "cell_type": "code",
      "execution_count": 31,
      "metadata": {
        "colab": {
          "base_uri": "https://localhost:8080/",
          "height": 399
        },
        "id": "XVuPWLBjv6bC",
        "outputId": "c2fe769c-430e-4849-d470-6161d71cd66c"
      },
      "outputs": [
        {
          "data": {
            "text/plain": [
              "Text(0.5, 1.0, 'Top 10 Offense in Downtown Commercial')"
            ]
          },
          "execution_count": 31,
          "metadata": {},
          "output_type": "execute_result"
        },
        {
          "data": {
            "image/png": "[encoded data removed]",
            "text/plain": [
              "<Figure size 1080x288 with 1 Axes>"
            ]
          },
          "metadata": {
            "needs_background": "light"
          },
          "output_type": "display_data"
        }
      ],
      "source": [
        "x = FinalCrimeData.groupby(['MCPP','Offense'])['MCPP'].count()['DOWNTOWN COMMERCIAL'].sort_values().tail(10)\n",
        "#x.plot(kind='bar')\n",
        "ax= x.plot(kind='bar',figsize = (15,4))\n",
        "plt.xticks(rotation=30, horizontalalignment=\"center\", size =8)\n",
        "ax.set_title(\"Top 10 Offense in Downtown Commercial\")"
      ]
    },
    {
      "cell_type": "code",
      "execution_count": 26,
      "metadata": {
        "colab": {
          "base_uri": "https://localhost:8080/",
          "height": 393,
          "resources": {
            "http://localhost:8080/nbextensions/google.colab/files.js": {
              "data": "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",
              "headers": [
                [
                  "content-type",
                  "application/javascript"
                ]
              ],
              "ok": true,
              "status": 200,
              "status_text": ""
            }
          }
        },
        "id": "niANV8Ctt9ET",
        "outputId": "0854c055-1b27-4501-e6ed-76a48fb76b0b"
      },
      "outputs": [
        {
          "data": {
            "text/html": [
              "\n",
              "     <input type=\"file\" id=\"files-7ab526ce-1ea1-492f-ae93-56f7558a6504\" name=\"files[]\" multiple disabled\n",
              "        style=\"border:none\" />\n",
              "     <output id=\"result-7ab526ce-1ea1-492f-ae93-56f7558a6504\">\n",
              "      Upload widget is only available when the cell has been executed in the\n",
              "      current browser session. Please rerun this cell to enable.\n",
              "      </output>\n",
              "      <script src=\"/nbextensions/google.colab/files.js\"></script> "
            ],
            "text/plain": [
              "<IPython.core.display.HTML object>"
            ]
          },
          "metadata": {},
          "output_type": "display_data"
        },
        {
          "name": "stdout",
          "output_type": "stream",
          "text": [
            "Saving City_Clerk_Neighborhoods.geojson to City_Clerk_Neighborhoods.geojson\n"
          ]
        },
        {
          "data": {
            "text/html": [
              "\n",
              "  <div id=\"df-cf800908-45af-4223-8e76-5969a9d1f2e1\">\n",
              "    <div class=\"colab-df-container\">\n",
              "      <div>\n",
              "<style scoped>\n",
              "    .dataframe tbody tr th:only-of-type {\n",
              "        vertical-align: middle;\n",
              "    }\n",
              "\n",
              "    .dataframe tbody tr th {\n",
              "        vertical-align: top;\n",
              "    }\n",
              "\n",
              "    .dataframe thead th {\n",
              "        text-align: right;\n",
              "    }\n",
              "</style>\n",
              "<table border=\"1\" class=\"dataframe\">\n",
              "  <thead>\n",
              "    <tr style=\"text-align: right;\">\n",
              "      <th></th>\n",
              "      <th>OBJECTID</th>\n",
              "      <th>PERIMETER</th>\n",
              "      <th>S_HOOD</th>\n",
              "      <th>L_HOOD</th>\n",
              "      <th>L_HOODID</th>\n",
              "      <th>SYMBOL</th>\n",
              "      <th>SYMBOL2</th>\n",
              "      <th>AREA</th>\n",
              "      <th>HOODS_</th>\n",
              "      <th>HOODS_ID</th>\n",
              "      <th>SHAPE_Length</th>\n",
              "      <th>SHAPE_Area</th>\n",
              "      <th>geometry</th>\n",
              "    </tr>\n",
              "  </thead>\n",
              "  <tbody>\n",
              "    <tr>\n",
              "      <th>0</th>\n",
              "      <td>1</td>\n",
              "      <td>617.843</td>\n",
              "      <td>OOO</td>\n",
              "      <td></td>\n",
              "      <td>0</td>\n",
              "      <td>0</td>\n",
              "      <td>0</td>\n",
              "      <td>3588.443</td>\n",
              "      <td>2</td>\n",
              "      <td>0</td>\n",
              "      <td>617.842614</td>\n",
              "      <td>3588.442385</td>\n",
              "      <td>POLYGON ((-122.27398 47.69523, -122.27407 47.6...</td>\n",
              "    </tr>\n",
              "    <tr>\n",
              "      <th>1</th>\n",
              "      <td>2</td>\n",
              "      <td>733.568</td>\n",
              "      <td>OOO</td>\n",
              "      <td></td>\n",
              "      <td>0</td>\n",
              "      <td>0</td>\n",
              "      <td>0</td>\n",
              "      <td>22294.777</td>\n",
              "      <td>3</td>\n",
              "      <td>0</td>\n",
              "      <td>733.568416</td>\n",
              "      <td>22294.781706</td>\n",
              "      <td>POLYGON ((-122.28756 47.64523, -122.28754 47.6...</td>\n",
              "    </tr>\n",
              "    <tr>\n",
              "      <th>2</th>\n",
              "      <td>3</td>\n",
              "      <td>4088.442</td>\n",
              "      <td>OOO</td>\n",
              "      <td></td>\n",
              "      <td>0</td>\n",
              "      <td>0</td>\n",
              "      <td>0</td>\n",
              "      <td>56695.367</td>\n",
              "      <td>5</td>\n",
              "      <td>0</td>\n",
              "      <td>4088.441739</td>\n",
              "      <td>56695.357490</td>\n",
              "      <td>POLYGON ((-122.39529 47.66514, -122.39540 47.6...</td>\n",
              "    </tr>\n",
              "    <tr>\n",
              "      <th>3</th>\n",
              "      <td>4</td>\n",
              "      <td>1809.446</td>\n",
              "      <td>OOO</td>\n",
              "      <td></td>\n",
              "      <td>0</td>\n",
              "      <td>0</td>\n",
              "      <td>0</td>\n",
              "      <td>64156.813</td>\n",
              "      <td>6</td>\n",
              "      <td>0</td>\n",
              "      <td>1809.445748</td>\n",
              "      <td>64156.821780</td>\n",
              "      <td>POLYGON ((-122.39832 47.66609, -122.39830 47.6...</td>\n",
              "    </tr>\n",
              "    <tr>\n",
              "      <th>4</th>\n",
              "      <td>5</td>\n",
              "      <td>250.330</td>\n",
              "      <td>OOO</td>\n",
              "      <td></td>\n",
              "      <td>0</td>\n",
              "      <td>0</td>\n",
              "      <td>0</td>\n",
              "      <td>2993.164</td>\n",
              "      <td>7</td>\n",
              "      <td>0</td>\n",
              "      <td>250.330362</td>\n",
              "      <td>2993.161328</td>\n",
              "      <td>POLYGON ((-122.28851 47.65630, -122.28847 47.6...</td>\n",
              "    </tr>\n",
              "  </tbody>\n",
              "</table>\n",
              "</div>\n",
              "      <button class=\"colab-df-convert\" onclick=\"convertToInteractive('df-cf800908-45af-4223-8e76-5969a9d1f2e1')\"\n",
              "              title=\"Convert this dataframe to an interactive table.\"\n",
              "              style=\"display:none;\">\n",
              "        \n",
              "  <svg xmlns=\"http://www.w3.org/2000/svg\" height=\"24px\"viewBox=\"0 0 24 24\"\n",
              "       width=\"24px\">\n",
              "    <path d=\"M0 0h24v24H0V0z\" fill=\"none\"/>\n",
              "    <path d=\"M18.56 5.44l.94 2.06.94-2.06 2.06-.94-2.06-.94-.94-2.06-.94 2.06-2.06.94zm-11 1L8.5 8.5l.94-2.06 2.06-.94-2.06-.94L8.5 2.5l-.94 2.06-2.06.94zm10 10l.94 2.06.94-2.06 2.06-.94-2.06-.94-.94-2.06-.94 2.06-2.06.94z\"/><path d=\"M17.41 7.96l-1.37-1.37c-.4-.4-.92-.59-1.43-.59-.52 0-1.04.2-1.43.59L10.3 9.45l-7.72 7.72c-.78.78-.78 2.05 0 2.83L4 21.41c.39.39.9.59 1.41.59.51 0 1.02-.2 1.41-.59l7.78-7.78 2.81-2.81c.8-.78.8-2.07 0-2.86zM5.41 20L4 18.59l7.72-7.72 1.47 1.35L5.41 20z\"/>\n",
              "  </svg>\n",
              "      </button>\n",
              "      \n",
              "  <style>\n",
              "    .colab-df-container {\n",
              "      display:flex;\n",
              "      flex-wrap:wrap;\n",
              "      gap: 12px;\n",
              "    }\n",
              "\n",
              "    .colab-df-convert {\n",
              "      background-color: #E8F0FE;\n",
              "      border: none;\n",
              "      border-radius: 50%;\n",
              "      cursor: pointer;\n",
              "      display: none;\n",
              "      fill: #1967D2;\n",
              "      height: 32px;\n",
              "      padding: 0 0 0 0;\n",
              "      width: 32px;\n",
              "    }\n",
              "\n",
              "    .colab-df-convert:hover {\n",
              "      background-color: #E2EBFA;\n",
              "      box-shadow: 0px 1px 2px rgba(60, 64, 67, 0.3), 0px 1px 3px 1px rgba(60, 64, 67, 0.15);\n",
              "      fill: #174EA6;\n",
              "    }\n",
              "\n",
              "    [theme=dark] .colab-df-convert {\n",
              "      background-color: #3B4455;\n",
              "      fill: #D2E3FC;\n",
              "    }\n",
              "\n",
              "    [theme=dark] .colab-df-convert:hover {\n",
              "      background-color: #434B5C;\n",
              "      box-shadow: 0px 1px 3px 1px rgba(0, 0, 0, 0.15);\n",
              "      filter: drop-shadow(0px 1px 2px rgba(0, 0, 0, 0.3));\n",
              "      fill: #FFFFFF;\n",
              "    }\n",
              "  </style>\n",
              "\n",
              "      <script>\n",
              "        const buttonEl =\n",
              "          document.querySelector('#df-cf800908-45af-4223-8e76-5969a9d1f2e1 button.colab-df-convert');\n",
              "        buttonEl.style.display =\n",
              "          google.colab.kernel.accessAllowed ? 'block' : 'none';\n",
              "\n",
              "        async function convertToInteractive(key) {\n",
              "          const element = document.querySelector('#df-cf800908-45af-4223-8e76-5969a9d1f2e1');\n",
              "          const dataTable =\n",
              "            await google.colab.kernel.invokeFunction('convertToInteractive',\n",
              "                                                     [key], {});\n",
              "          if (!dataTable) return;\n",
              "\n",
              "          const docLinkHtml = 'Like what you see? Visit the ' +\n",
              "            '<a target=\"_blank\" href=https://colab.research.google.com/notebooks/data_table.ipynb>data table notebook</a>'\n",
              "            + ' to learn more about interactive tables.';\n",
              "          element.innerHTML = '';\n",
              "          dataTable['output_type'] = 'display_data';\n",
              "          await google.colab.output.renderOutput(dataTable, element);\n",
              "          const docLink = document.createElement('div');\n",
              "          docLink.innerHTML = docLinkHtml;\n",
              "          element.appendChild(docLink);\n",
              "        }\n",
              "      </script>\n",
              "    </div>\n",
              "  </div>\n",
              "  "
            ],
            "text/plain": [
              "   OBJECTID  PERIMETER S_HOOD L_HOOD  L_HOODID  SYMBOL  SYMBOL2       AREA  \\\n",
              "0         1    617.843    OOO                0       0        0   3588.443   \n",
              "1         2    733.568    OOO                0       0        0  22294.777   \n",
              "2         3   4088.442    OOO                0       0        0  56695.367   \n",
              "3         4   1809.446    OOO                0       0        0  64156.813   \n",
              "4         5    250.330    OOO                0       0        0   2993.164   \n",
              "\n",
              "   HOODS_  HOODS_ID  SHAPE_Length    SHAPE_Area  \\\n",
              "0       2         0    617.842614   3588.442385   \n",
              "1       3         0    733.568416  22294.781706   \n",
              "2       5         0   4088.441739  56695.357490   \n",
              "3       6         0   1809.445748  64156.821780   \n",
              "4       7         0    250.330362   2993.161328   \n",
              "\n",
              "                                            geometry  \n",
              "0  POLYGON ((-122.27398 47.69523, -122.27407 47.6...  \n",
              "1  POLYGON ((-122.28756 47.64523, -122.28754 47.6...  \n",
              "2  POLYGON ((-122.39529 47.66514, -122.39540 47.6...  \n",
              "3  POLYGON ((-122.39832 47.66609, -122.39830 47.6...  \n",
              "4  POLYGON ((-122.28851 47.65630, -122.28847 47.6...  "
            ]
          },
          "execution_count": 26,
          "metadata": {},
          "output_type": "execute_result"
        }
      ],
      "source": [
        "file = files.upload()  #uploading file into google colab session\n",
        "SeattleShapesData =gpd.read_file(\"City_Clerk_Neighborhoods.geojson\") \n",
        "SeattleShapesData.head()"
      ]
    },
    {
      "cell_type": "code",
      "execution_count": 63,
      "metadata": {
        "id": "HcxTMEOKyyr_"
      },
      "outputs": [],
      "source": [
        "geo_df = gpd.GeoDataFrame(FinalCrimeData, geometry=gpd.points_from_xy(FinalCrimeData.Longitude, FinalCrimeData.Latitude))\n",
        "# because of warning, not necessary\n",
        "geo_df.crs = SeattleShapesData.crs"
      ]
    },
    {
      "cell_type": "code",
      "execution_count": 64,
      "metadata": {
        "colab": {
          "base_uri": "https://localhost:8080/",
          "height": 458
        },
        "id": "tTSh63A3pz9e",
        "outputId": "396c323f-ae6b-42c0-cab9-63683df21e91"
      },
      "outputs": [
        {
          "data": {
            "image/png": "[encoded data removed]",
            "text/plain": [
              "<Figure size 720x504 with 2 Axes>"
            ]
          },
          "metadata": {
            "needs_background": "light"
          },
          "output_type": "display_data"
        }
      ],
      "source": [
        "fig, ax = plt.subplots(figsize = (10,7))\n",
        "SeattleShapesData.to_crs(epsg=4326).plot(ax=ax, color='lightgrey')\n",
        "geo_df.plot(column = 'Area_Count', ax=ax,\n",
        "            legend = True, legend_kwds={'shrink': 0.3}, \n",
        "            markersize = 10)\n",
        "ax.set_xlim([-122.2, -122.45])\n",
        "ax.set_ylim([47.5, 47.75])\n",
        "cursor = mplcursors.cursor(ax,hover=True)\n",
        "ax.set_title('Seattle Crime Report 2019 - 2021')\n",
        "ax.set_xlabel(\"Longitude\")\n",
        "ax.set_ylabel(\"Latitude\")\n",
        "plt.show()"
      ]
    },
    {
      "cell_type": "markdown",
      "metadata": {
        "id": "LETg7bQYrSLe"
      },
      "source": [
        "# Exporting the final data set consisting of crimes for 3 years from 2019 to 2021."
      ]
    },
    {
      "cell_type": "code",
      "execution_count": null,
      "metadata": {
        "id": "vlEp0Dn6rg75"
      },
      "outputs": [],
      "source": [
        "FinalCrimeData.to_csv('CrimeData_2019_2022_2021.csv')"
      ]
    },
    {
      "cell_type": "code",
      "execution_count": null,
      "metadata": {
        "colab": {
          "base_uri": "https://localhost:8080/",
          "height": 17
        },
        "id": "pQDJqbo7sSh5",
        "outputId": "5d9aa995-a69d-42c2-957a-0191018d69ea"
      },
      "outputs": [
        {
          "data": {
            "application/javascript": "\n    async function download(id, filename, size) {\n      if (!google.colab.kernel.accessAllowed) {\n        return;\n      }\n      const div = document.createElement('div');\n      const label = document.createElement('label');\n      label.textContent = `Downloading \"${filename}\": `;\n      div.appendChild(label);\n      const progress = document.createElement('progress');\n      progress.max = size;\n      div.appendChild(progress);\n      document.body.appendChild(div);\n\n      const buffers = [];\n      let downloaded = 0;\n\n      const channel = await google.colab.kernel.comms.open(id);\n      // Send a message to notify the kernel that we're ready.\n      channel.send({})\n\n      for await (const message of channel.messages) {\n        // Send a message to notify the kernel that we're ready.\n        channel.send({})\n        if (message.buffers) {\n          for (const buffer of message.buffers) {\n            buffers.push(buffer);\n            downloaded += buffer.byteLength;\n            progress.value = downloaded;\n          }\n        }\n      }\n      const blob = new Blob(buffers, {type: 'application/binary'});\n      const a = document.createElement('a');\n      a.href = window.URL.createObjectURL(blob);\n      a.download = filename;\n      div.appendChild(a);\n      a.click();\n      div.remove();\n    }\n  ",
            "text/plain": [
              "<IPython.core.display.Javascript object>"
            ]
          },
          "metadata": {},
          "output_type": "display_data"
        },
        {
          "data": {
            "application/javascript": "download(\"download_eddc487b-0e72-452a-b071-d4d837df9845\", \"CrimeData_2019_2022_2021.csv\", 36776216)",
            "text/plain": [
              "<IPython.core.display.Javascript object>"
            ]
          },
          "metadata": {},
          "output_type": "display_data"
        }
      ],
      "source": [
        "files.download('CrimeData_2019_2022_2021.csv')"
      ]
    },
    {
      "cell_type": "markdown",
      "metadata": {
        "id": "e8dhc9Nt07oh"
      },
      "source": [
        "# Feature Selection\n",
        "\n",
        "## Benifits of Feature Selection\n",
        "### Reduces Overfitting\n",
        "### Improves Accuracy\n",
        "### Reduces Training Time\n",
        "\n",
        "## Methods \n",
        "### 1. Filter Method\n",
        "### 2. Wrapper Method\n",
        "### 3. Embedded Method"
      ]
    },
    {
      "cell_type": "markdown",
      "metadata": {
        "id": "AuzBIz8q1wCJ"
      },
      "source": [
        "# Filter Method - Chi-squared Feature Selection\n",
        "\n"
      ]
    },
    {
      "cell_type": "code",
      "execution_count": 107,
      "metadata": {
        "id": "PBpd7zdt1fN2"
      },
      "outputs": [],
      "source": [
        "from sklearn.feature_selection import SelectKBest\n",
        "from sklearn.feature_selection import chi2\n",
        "from sklearn.model_selection import train_test_split\n",
        "from sklearn.feature_selection import SelectKBest, f_classif\n",
        "from sklearn.preprocessing import OrdinalEncoder, LabelEncoder\n",
        "import matplotlib.pylab as plt\n",
        "\n",
        "# split into input (X) and output (y) variables\n",
        "FinalCrimeData = FinalCrimeData[FinalCrimeData['Precinct'] != 'OOJ']\n"
      ]
    },
    {
      "cell_type": "markdown",
      "metadata": {
        "id": "jgKgNhOqDPCE"
      },
      "source": [
        "## We will split data based on years instead of using split function from scikit-learn. Using 2019 and 2020 data for training and 2021 for testing."
      ]
    },
    {
      "cell_type": "code",
      "execution_count": 144,
      "metadata": {
        "colab": {
          "base_uri": "https://localhost:8080/"
        },
        "id": "5ycnzNXyDM2u",
        "outputId": "45199dc7-c55f-4162-b8f3-efcaa5b6636a"
      },
      "outputs": [
        {
          "data": {
            "text/plain": [
              "(70968, 11)"
            ]
          },
          "execution_count": 144,
          "metadata": {},
          "output_type": "execute_result"
        }
      ],
      "source": [
        "# split into train and test sets\n",
        "Year = ['2019','2020']\n",
        "ReducedCrimeData = FinalCrimeData[FinalCrimeData.Report_Number.str.startswith(tuple(Year))]\n",
        "\n",
        "X_train = ReducedCrimeData.iloc[:, 2:-1]\n",
        "y_train = ReducedCrimeData.iloc[:,-1]\n",
        "# format all fields as string\n",
        "X_train = X_train.astype(str)\n",
        "y_train = y_train.astype(bool)\n",
        "\n",
        "X_train.shape\n",
        "\n",
        "\n",
        "Year = ['2021']\n",
        "\n",
        "ReducedCrimeData_2021 = FinalCrimeData[FinalCrimeData.Report_Number.str.startswith(tuple(Year))]\n",
        "\n",
        "X_test = ReducedCrimeData_2021.iloc[:, 2:-1]\n",
        "y_test = ReducedCrimeData_2021.iloc[:,-1]\n",
        "# format all fields as string\n",
        "X_test = X_test.astype(str)\n",
        "y_test = y_test.astype(bool)\n",
        "\n",
        "X_test.shape\n"
      ]
    },
    {
      "cell_type": "markdown",
      "metadata": {
        "id": "AE8_CexcezAv"
      },
      "source": [
        "##Ordinal encoder is used to encode all categorical variables to numerical values."
      ]
    },
    {
      "cell_type": "code",
      "execution_count": 145,
      "metadata": {
        "id": "H6T8b8I5c5yZ"
      },
      "outputs": [],
      "source": [
        "enc = OrdinalEncoder()\n",
        "X_train[[\"Offense_Parent_Group\", \"Precinct\", \"Offense_Code\", \"Sector\", \"Offense\", \"MCPP\",\"100_Block_Address\", \"Longitude\", \"Latitude\"]] = enc.fit_transform(X_train[[\"Offense_Parent_Group\",\"Precinct\", \"Offense_Code\", \"Sector\", \"Offense\",\"MCPP\", \"100_Block_Address\", \"Longitude\", \"Latitude\"]])\n",
        "\n",
        "X_test[[\"Offense_Parent_Group\", \"Precinct\", \"Offense_Code\", \"Sector\", \"Offense\", \"MCPP\",\"100_Block_Address\", \"Longitude\", \"Latitude\"]] = enc.fit_transform(X_test[[\"Offense_Parent_Group\",\"Precinct\", \"Offense_Code\", \"Sector\", \"Offense\",\"MCPP\", \"100_Block_Address\", \"Longitude\", \"Latitude\"]])\n"
      ]
    },
    {
      "cell_type": "markdown",
      "metadata": {
        "id": "g9vY3OhNe5Cd"
      },
      "source": [
        "##It is a binary classification problem, so we need to map the two class labels to 0 and 1. LabelEncoder is a type of ordinal encoding, specifically designed to map boolean values."
      ]
    },
    {
      "cell_type": "code",
      "execution_count": 146,
      "metadata": {
        "id": "ulESudWTa9_1"
      },
      "outputs": [],
      "source": [
        "le = LabelEncoder()\n",
        "y_train = pd.DataFrame(y_train)\n",
        "y_test = pd.DataFrame(y_test)\n",
        "y_train['Safe_Neighborhood'] = le.fit_transform(y_train[\"Safe_Neighborhood\"])\n",
        "y_test['Safe_Neighborhood'] = le.fit_transform(y_test[\"Safe_Neighborhood\"])"
      ]
    },
    {
      "cell_type": "markdown",
      "metadata": {
        "id": "iPPO7-2VcZEk"
      },
      "source": [
        "## Chi-squared function from scikit learn is used in a feature selection strategy, by selecting the top k most relevant features (largest values) using the SelectKBest class.\n"
      ]
    },
    {
      "cell_type": "code",
      "execution_count": 111,
      "metadata": {
        "id": "eq8dJYH3SSZf"
      },
      "outputs": [],
      "source": [
        "fs = SelectKBest(score_func=chi2, k='all')\n",
        "fs.fit(X_train, y_train)\n",
        "X_train_fs = fs.transform(X_train)\n",
        "X_test_fs = fs.transform(X_test)"
      ]
    },
    {
      "cell_type": "markdown",
      "metadata": {
        "id": "ukjENf1tcxX-"
      },
      "source": [
        "## Printing the feature score for each variables and plotting the feature scores for each variables using bar graph. Larger the value of Feature score, the higher is the importance of the feature."
      ]
    },
    {
      "cell_type": "code",
      "execution_count": 118,
      "metadata": {
        "colab": {
          "base_uri": "https://localhost:8080/",
          "height": 490
        },
        "id": "CqE-_ousUedZ",
        "outputId": "130f6d63-552a-4256-8cfe-e73c02755dc3"
      },
      "outputs": [
        {
          "name": "stdout",
          "output_type": "stream",
          "text": [
            "Feature 0: 31.035592\n",
            "Feature 1: 1082.681769\n",
            "Feature 2: 0.394786\n",
            "Feature 3: 931.266098\n",
            "Feature 4: 12946.850156\n",
            "Feature 5: 3466.115961\n",
            "Feature 6: 7025712.385021\n",
            "Feature 7: 4422008.514150\n",
            "Feature 8: 56227618.294405\n",
            "Feature 9: 254997116.480692\n",
            "Feature 10: 19140110.958953\n"
          ]
        },
        {
          "data": {
            "image/png": "[encoded data removed]",
            "text/plain": [
              "<Figure size 432x288 with 1 Axes>"
            ]
          },
          "metadata": {
            "needs_background": "light"
          },
          "output_type": "display_data"
        }
      ],
      "source": [
        "# scores for the features\n",
        "for i in range(len(fs.scores_)):\n",
        "\tprint('Feature %d: %f' % (i, fs.scores_[i]))\n",
        " \n",
        "# plotting the scores\n",
        "plt.bar([i for i in range(len(fs.scores_))], fs.scores_)\n",
        "plt.xlabel(\"Features\")\n",
        "plt.ylabel(\"Feature Score\")\n",
        "plt.title(\"Best Features\")\n",
        "plt.show()"
      ]
    },
    {
      "cell_type": "markdown",
      "metadata": {
        "id": "8FKG6Q4gdLeG"
      },
      "source": [
        "## From the above graph and scores, we can see that Feature 8 & 9 is the most relevant which is Longitude and Latitude.\n",
        "## 5 features out of 10 features considered are most relevant."
      ]
    },
    {
      "cell_type": "markdown",
      "metadata": {
        "id": "tLXqzlgld5Wx"
      },
      "source": [
        "# Modeling with Selected Features"
      ]
    },
    {
      "cell_type": "markdown",
      "metadata": {
        "id": "a07Km5vSfRug"
      },
      "source": [
        "### Here we will evaluate the logistic regression models without Feature Selection"
      ]
    },
    {
      "cell_type": "code",
      "execution_count": 119,
      "metadata": {
        "colab": {
          "base_uri": "https://localhost:8080/"
        },
        "id": "903_NFwCewwT",
        "outputId": "04389b59-80fd-43b7-f536-9c74a0c2bb91"
      },
      "outputs": [
        {
          "name": "stderr",
          "output_type": "stream",
          "text": [
            "/usr/local/lib/python3.7/dist-packages/sklearn/utils/validation.py:993: DataConversionWarning: A column-vector y was passed when a 1d array was expected. Please change the shape of y to (n_samples, ), for example using ravel().\n",
            "  y = column_or_1d(y, warn=True)\n"
          ]
        },
        {
          "name": "stdout",
          "output_type": "stream",
          "text": [
            "Accuracy: 97.04\n"
          ]
        },
        {
          "name": "stderr",
          "output_type": "stream",
          "text": [
            "/usr/local/lib/python3.7/dist-packages/sklearn/linear_model/_logistic.py:818: ConvergenceWarning: lbfgs failed to converge (status=1):\n",
            "STOP: TOTAL NO. of ITERATIONS REACHED LIMIT.\n",
            "\n",
            "Increase the number of iterations (max_iter) or scale the data as shown in:\n",
            "    https://scikit-learn.org/stable/modules/preprocessing.html\n",
            "Please also refer to the documentation for alternative solver options:\n",
            "    https://scikit-learn.org/stable/modules/linear_model.html#logistic-regression\n",
            "  extra_warning_msg=_LOGISTIC_SOLVER_CONVERGENCE_MSG,\n"
          ]
        }
      ],
      "source": [
        "from sklearn.linear_model import LogisticRegression\n",
        "from sklearn.metrics import accuracy_score\n",
        "\n",
        "# fit the model\n",
        "model = LogisticRegression(solver='lbfgs')\n",
        "model.fit(X_train, y_train)\n",
        "# evaluate the model\n",
        "yhat = model.predict(X_test)\n",
        "# evaluate predictions\n",
        "accuracy = accuracy_score(y_test, yhat)\n",
        "print('Accuracy: %.2f' % (accuracy*100))"
      ]
    },
    {
      "cell_type": "markdown",
      "metadata": {
        "id": "gERGm3i0eGcy"
      },
      "source": [
        "### Here we will evaluate the logistic regression models with all Features built from feature selected models using Chi-squared."
      ]
    },
    {
      "cell_type": "code",
      "execution_count": 120,
      "metadata": {
        "colab": {
          "base_uri": "https://localhost:8080/"
        },
        "id": "fYIxcOUaWKlA",
        "outputId": "442dd9de-a1ab-4098-c16c-6677ad81562e"
      },
      "outputs": [
        {
          "name": "stderr",
          "output_type": "stream",
          "text": [
            "/usr/local/lib/python3.7/dist-packages/sklearn/utils/validation.py:993: DataConversionWarning: A column-vector y was passed when a 1d array was expected. Please change the shape of y to (n_samples, ), for example using ravel().\n",
            "  y = column_or_1d(y, warn=True)\n"
          ]
        },
        {
          "name": "stdout",
          "output_type": "stream",
          "text": [
            "Accuracy: 100.00\n"
          ]
        },
        {
          "name": "stderr",
          "output_type": "stream",
          "text": [
            "/usr/local/lib/python3.7/dist-packages/sklearn/linear_model/_logistic.py:818: ConvergenceWarning: lbfgs failed to converge (status=1):\n",
            "STOP: TOTAL NO. of ITERATIONS REACHED LIMIT.\n",
            "\n",
            "Increase the number of iterations (max_iter) or scale the data as shown in:\n",
            "    https://scikit-learn.org/stable/modules/preprocessing.html\n",
            "Please also refer to the documentation for alternative solver options:\n",
            "    https://scikit-learn.org/stable/modules/linear_model.html#logistic-regression\n",
            "  extra_warning_msg=_LOGISTIC_SOLVER_CONVERGENCE_MSG,\n"
          ]
        }
      ],
      "source": [
        "from sklearn.linear_model import LogisticRegression\n",
        "from sklearn.metrics import accuracy_score\n",
        "\n",
        "# feature selection\n",
        "def select_features(X_train, y_train, X_test):\n",
        "\tfs = SelectKBest(score_func=chi2, k=4)\n",
        "\tfs.fit(X_train, y_train)\n",
        "\tX_train_fs = fs.transform(X_train)\n",
        "\tX_test_fs = fs.transform(X_test)\n",
        "\treturn X_train_fs, X_test_fs\n",
        "\n",
        "# feature selection\n",
        "X_train_fs, X_test_fs = select_features(X_train, y_train, X_test)\n",
        "# fit the model\n",
        "model = LogisticRegression(solver='lbfgs')\n",
        "model.fit(X_train_fs, y_train)\n",
        "# evaluate the model\n",
        "yhat = model.predict(X_test_fs)\n",
        "# evaluate predictions\n",
        "accuracy = accuracy_score(y_test, yhat)\n",
        "print('Accuracy: %.2f' % (accuracy*100))"
      ]
    },
    {
      "cell_type": "markdown",
      "metadata": {
        "id": "zGNQHVwpfcGG"
      },
      "source": [
        "### From the above results, we can see that the model achieves a classification accuracy of about 97 % whereas the model with feature selection using chi-squared achieves an accuracy of 100 %. So there is an increase in the model performance with selected features."
      ]
    },
    {
      "cell_type": "markdown",
      "metadata": {
        "id": "in0iGtq4a79p"
      },
      "source": [
        "##Applying other models for binary classification-\n",
        "###1) Decision Tree\n",
        "###2) Naive Bayes\n",
        "###3) KNN\n",
        "###4) Support Vector Machine"
      ]
    },
    {
      "cell_type": "markdown",
      "metadata": {
        "id": "zq89cxQOb6KZ"
      },
      "source": [
        "##Before applying the models lets build a function to store all the evaluation metrics and use it for each model."
      ]
    },
    {
      "cell_type": "code",
      "execution_count": 121,
      "metadata": {
        "id": "hGoJN3WPcFeN"
      },
      "outputs": [],
      "source": [
        "def evaluate_model(model, X_test, y_test):\n",
        "    from sklearn import metrics\n",
        "\n",
        "    # Predict Test Data \n",
        "    y_pred = model.predict(X_test)\n",
        "\n",
        "    # Calculate accuracy, precision, recall, f1-score, and kappa score\n",
        "    acc = metrics.accuracy_score(y_test, y_pred)\n",
        "    prec = metrics.precision_score(y_test, y_pred)\n",
        "    rec = metrics.recall_score(y_test, y_pred)\n",
        "    f1 = metrics.f1_score(y_test, y_pred)\n",
        "    kappa = metrics.cohen_kappa_score(y_test, y_pred)\n",
        "\n",
        "    # Calculate area under curve (AUC)\n",
        "    y_pred_proba = model.predict_proba(X_test)[::,1]\n",
        "    fpr, tpr, _ = metrics.roc_curve(y_test, y_pred_proba)\n",
        "    auc = metrics.roc_auc_score(y_test, y_pred_proba)\n",
        "\n",
        "    # Display confussion matrix\n",
        "    cm = metrics.confusion_matrix(y_test, y_pred)\n",
        "\n",
        "    return {'acc': acc, 'prec': prec, 'rec': rec, 'f1': f1, 'kappa': kappa, \n",
        "            'fpr': fpr, 'tpr': tpr, 'auc': auc, 'cm': cm}"
      ]
    },
    {
      "cell_type": "markdown",
      "metadata": {
        "id": "O1rGLtPJbcxU"
      },
      "source": [
        "#Decision Tree"
      ]
    },
    {
      "cell_type": "code",
      "execution_count": 122,
      "metadata": {
        "colab": {
          "base_uri": "https://localhost:8080/"
        },
        "id": "T0fCT8lTbifd",
        "outputId": "2b4c708c-ff4f-4b75-bfe2-51e9c9db2a72"
      },
      "outputs": [
        {
          "data": {
            "text/plain": [
              "DecisionTreeClassifier(random_state=0)"
            ]
          },
          "execution_count": 122,
          "metadata": {},
          "output_type": "execute_result"
        }
      ],
      "source": [
        "from sklearn import tree\n",
        "\n",
        "# Building Decision Tree model \n",
        "dtc = tree.DecisionTreeClassifier(random_state=0)\n",
        "dtc.fit(X_train_fs, y_train)"
      ]
    },
    {
      "cell_type": "code",
      "execution_count": 123,
      "metadata": {
        "colab": {
          "base_uri": "https://localhost:8080/"
        },
        "id": "jObfhqRibpR3",
        "outputId": "4b56088b-23e1-4ca3-85e7-cd4337111c4d"
      },
      "outputs": [
        {
          "name": "stdout",
          "output_type": "stream",
          "text": [
            "Accuracy: 1.0\n",
            "Precision: 1.0\n",
            "Recall: 1.0\n",
            "F1 Score: 1.0\n",
            "Area Under Curve: 1.0\n",
            "Confusion Matrix:\n",
            " [[40290     0]\n",
            " [    0 30678]]\n"
          ]
        }
      ],
      "source": [
        "# Evaluate Model\n",
        "dtc_eval = evaluate_model(dtc, X_test_fs, y_test)\n",
        "\n",
        "# Print result\n",
        "print('Accuracy:', dtc_eval['acc'])\n",
        "print('Precision:', dtc_eval['prec'])\n",
        "print('Recall:', dtc_eval['rec'])\n",
        "print('F1 Score:', dtc_eval['f1'])\n",
        "#print('Cohens Kappa Score:', dtc_eval['kappa'])\n",
        "print('Area Under Curve:', dtc_eval['auc'])\n",
        "print('Confusion Matrix:\\n', dtc_eval['cm'])"
      ]
    },
    {
      "cell_type": "markdown",
      "metadata": {
        "id": "IYijVTCkdeDw"
      },
      "source": [
        "#Naive Bayes"
      ]
    },
    {
      "cell_type": "code",
      "execution_count": 124,
      "metadata": {
        "colab": {
          "base_uri": "https://localhost:8080/"
        },
        "id": "YjiX6z49dhfd",
        "outputId": "809a91bc-e6f1-4a39-80fd-6cafa44922a6"
      },
      "outputs": [
        {
          "name": "stderr",
          "output_type": "stream",
          "text": [
            "/usr/local/lib/python3.7/dist-packages/sklearn/utils/validation.py:993: DataConversionWarning: A column-vector y was passed when a 1d array was expected. Please change the shape of y to (n_samples, ), for example using ravel().\n",
            "  y = column_or_1d(y, warn=True)\n"
          ]
        },
        {
          "data": {
            "text/plain": [
              "GaussianNB()"
            ]
          },
          "execution_count": 124,
          "metadata": {},
          "output_type": "execute_result"
        }
      ],
      "source": [
        "from sklearn.naive_bayes import GaussianNB\n",
        "\n",
        "# Building Naive Bayes model \n",
        "nb = GaussianNB()\n",
        "nb.fit(X_train_fs, y_train)"
      ]
    },
    {
      "cell_type": "code",
      "execution_count": 125,
      "metadata": {
        "colab": {
          "base_uri": "https://localhost:8080/"
        },
        "id": "JAtN5zoPdmlC",
        "outputId": "57f41eb7-467c-4060-d7f7-0613f8de2cbe"
      },
      "outputs": [
        {
          "name": "stdout",
          "output_type": "stream",
          "text": [
            "Accuracy: 0.9322229737346409\n",
            "Precision: 0.8961408882082695\n",
            "Recall: 0.9537453549775083\n",
            "F1 Score: 0.9240462354724608\n",
            "Area Under Curve: 0.9910668110595471\n",
            "Confusion Matrix:\n",
            " [[36899  3391]\n",
            " [ 1419 29259]]\n"
          ]
        }
      ],
      "source": [
        "# Evaluate Model\n",
        "nb_eval = evaluate_model(nb, X_test_fs, y_test)\n",
        "\n",
        "# Print result\n",
        "print('Accuracy:', nb_eval['acc'])\n",
        "print('Precision:', nb_eval['prec'])\n",
        "print('Recall:', nb_eval['rec'])\n",
        "print('F1 Score:', nb_eval['f1'])\n",
        "#print('Cohens Kappa Score:', nb_eval['kappa'])\n",
        "print('Area Under Curve:', nb_eval['auc'])\n",
        "print('Confusion Matrix:\\n', nb_eval['cm'])"
      ]
    },
    {
      "cell_type": "markdown",
      "metadata": {
        "id": "IGBasVwUdvBI"
      },
      "source": [
        "#K Nearest Neighbours"
      ]
    },
    {
      "cell_type": "code",
      "execution_count": 126,
      "metadata": {
        "colab": {
          "base_uri": "https://localhost:8080/"
        },
        "id": "6NVy_FJ9dznX",
        "outputId": "51a43f13-3017-40c0-a205-686477e91c05"
      },
      "outputs": [
        {
          "name": "stderr",
          "output_type": "stream",
          "text": [
            "/usr/local/lib/python3.7/dist-packages/sklearn/neighbors/_classification.py:198: DataConversionWarning: A column-vector y was passed when a 1d array was expected. Please change the shape of y to (n_samples,), for example using ravel().\n",
            "  return self._fit(X, y)\n"
          ]
        },
        {
          "data": {
            "text/plain": [
              "KNeighborsClassifier()"
            ]
          },
          "execution_count": 126,
          "metadata": {},
          "output_type": "execute_result"
        }
      ],
      "source": [
        "from sklearn.neighbors import KNeighborsClassifier\n",
        "\n",
        "# Building KNN model \n",
        "knn = KNeighborsClassifier()\n",
        "knn.fit(X_train_fs, y_train)"
      ]
    },
    {
      "cell_type": "code",
      "execution_count": 127,
      "metadata": {
        "colab": {
          "base_uri": "https://localhost:8080/"
        },
        "id": "Dstnzv0sd8jM",
        "outputId": "34e7fb9b-bdbc-4da0-b84c-0eda83af2978"
      },
      "outputs": [
        {
          "name": "stdout",
          "output_type": "stream",
          "text": [
            "Accuracy: 0.9464406493067298\n",
            "Precision: 0.8993492021039493\n",
            "Recall: 0.9865049872873068\n",
            "F1 Score: 0.9409131185002098\n",
            "Area Under Curve: 0.9733948986058132\n",
            "Confusion Matrix:\n",
            " [[36903  3387]\n",
            " [  414 30264]]\n"
          ]
        }
      ],
      "source": [
        "# Evaluate Model\n",
        "knn_eval = evaluate_model(knn, X_test_fs, y_test)\n",
        "\n",
        "# Print result\n",
        "print('Accuracy:', knn_eval['acc'])\n",
        "print('Precision:', knn_eval['prec'])\n",
        "print('Recall:', knn_eval['rec'])\n",
        "print('F1 Score:', knn_eval['f1'])\n",
        "#print('Cohens Kappa Score:', knn_eval['kappa'])\n",
        "print('Area Under Curve:', knn_eval['auc'])\n",
        "print('Confusion Matrix:\\n', knn_eval['cm'])"
      ]
    },
    {
      "cell_type": "markdown",
      "metadata": {
        "id": "5p-tlrfYeAlc"
      },
      "source": [
        "#Support Vecotor Machine"
      ]
    },
    {
      "cell_type": "code",
      "execution_count": 128,
      "metadata": {
        "id": "F_BlndlPeT38"
      },
      "outputs": [],
      "source": [
        "import sklearn as sk\n",
        "from sklearn.svm import SVC\n",
        "import pandas as pd\n",
        "import os"
      ]
    },
    {
      "cell_type": "code",
      "execution_count": 129,
      "metadata": {
        "colab": {
          "base_uri": "https://localhost:8080/"
        },
        "id": "B6iCvQB7eKlU",
        "outputId": "ec09c4ce-48be-4a47-ffe9-0bc617a35af1"
      },
      "outputs": [
        {
          "name": "stderr",
          "output_type": "stream",
          "text": [
            "/usr/local/lib/python3.7/dist-packages/sklearn/utils/validation.py:993: DataConversionWarning: A column-vector y was passed when a 1d array was expected. Please change the shape of y to (n_samples, ), for example using ravel().\n",
            "  y = column_or_1d(y, warn=True)\n"
          ]
        },
        {
          "name": "stdout",
          "output_type": "stream",
          "text": [
            "Accuracy: 1.0\n",
            "Precision: 1.0\n",
            "Recall: 1.0\n",
            "F1 Score: 1.0\n",
            "Area Under Curve: 1.0\n",
            "Confusion Matrix:\n",
            " [[40290     0]\n",
            " [    0 30678]]\n"
          ]
        }
      ],
      "source": [
        "SVM = SVC()\n",
        "\n",
        "SVM.probability = True\n",
        "SVM.fit(X_train_fs, y_train)\n",
        "\n",
        "\n",
        "\n",
        "# Evaluate Model\n",
        "svm_eval = evaluate_model(SVM, X_test_fs, y_test)\n",
        "\n",
        "# Print result\n",
        "print('Accuracy:', svm_eval['acc'])\n",
        "print('Precision:', svm_eval['prec'])\n",
        "print('Recall:', svm_eval['rec'])\n",
        "print('F1 Score:', svm_eval['f1'])\n",
        "#print('Cohens Kappa Score:', svm_eval['kappa'])\n",
        "print('Area Under Curve:', svm_eval['auc'])\n",
        "print('Confusion Matrix:\\n', svm_eval['cm'])"
      ]
    },
    {
      "cell_type": "markdown",
      "metadata": {
        "id": "C1hXcsHq6iyM"
      },
      "source": [
        "##Random Forest"
      ]
    },
    {
      "cell_type": "code",
      "execution_count": 130,
      "metadata": {
        "colab": {
          "base_uri": "https://localhost:8080/"
        },
        "id": "geIhA97r6mzz",
        "outputId": "f23c8829-f1e1-4479-c0f6-0aeeb86e3515"
      },
      "outputs": [
        {
          "name": "stderr",
          "output_type": "stream",
          "text": [
            "/usr/local/lib/python3.7/dist-packages/ipykernel_launcher.py:5: DataConversionWarning: A column-vector y was passed when a 1d array was expected. Please change the shape of y to (n_samples,), for example using ravel().\n",
            "  \"\"\"\n"
          ]
        },
        {
          "data": {
            "text/plain": [
              "RandomForestClassifier(random_state=0)"
            ]
          },
          "execution_count": 130,
          "metadata": {},
          "output_type": "execute_result"
        }
      ],
      "source": [
        "from sklearn.ensemble import RandomForestClassifier\n",
        "\n",
        "# Building Random Forest model \n",
        "rf = RandomForestClassifier(random_state=0)\n",
        "rf.fit(X_train_fs, y_train)"
      ]
    },
    {
      "cell_type": "code",
      "execution_count": 131,
      "metadata": {
        "colab": {
          "base_uri": "https://localhost:8080/"
        },
        "id": "Xchx1X4K66OI",
        "outputId": "a087ccd3-9bd5-4d9e-b0a3-a85928bbe105"
      },
      "outputs": [
        {
          "name": "stdout",
          "output_type": "stream",
          "text": [
            "Accuracy: 1.0\n",
            "Precision: 1.0\n",
            "Recall: 1.0\n",
            "F1 Score: 1.0\n",
            "Cohens Kappa Score: 1.0\n",
            "Area Under Curve: 0.9999999999999999\n",
            "Confusion Matrix:\n",
            " [[40290     0]\n",
            " [    0 30678]]\n"
          ]
        }
      ],
      "source": [
        "# Evaluate Model\n",
        "rf_eval = evaluate_model(rf, X_test_fs, y_test)\n",
        "\n",
        "# Print result\n",
        "print('Accuracy:', rf_eval['acc'])\n",
        "print('Precision:', rf_eval['prec'])\n",
        "print('Recall:', rf_eval['rec'])\n",
        "print('F1 Score:', rf_eval['f1'])\n",
        "print('Cohens Kappa Score:', rf_eval['kappa'])\n",
        "print('Area Under Curve:', rf_eval['auc'])\n",
        "print('Confusion Matrix:\\n', rf_eval['cm'])"
      ]
    },
    {
      "cell_type": "markdown",
      "metadata": {
        "id": "kPe8LPKh7ryr"
      },
      "source": [
        "##Model Comparison and Performance Evaluation"
      ]
    },
    {
      "cell_type": "code",
      "execution_count": 135,
      "metadata": {
        "colab": {
          "base_uri": "https://localhost:8080/",
          "height": 370
        },
        "id": "LT4-wvGV7wDA",
        "outputId": "cec713e6-0243-4510-dba4-b3c259a722e4"
      },
      "outputs": [
        {
          "data": {
            "image/png": "[encoded data removed]",
            "text/plain": [
              "<Figure size 1008x360 with 2 Axes>"
            ]
          },
          "metadata": {},
          "output_type": "display_data"
        }
      ],
      "source": [
        "# Intitialize figure with two plots\n",
        "fig, (ax1, ax2) = plt.subplots(1, 2)\n",
        "fig.suptitle('Model Comparison', fontsize=16, fontweight='bold')\n",
        "fig.set_figheight(5)\n",
        "fig.set_figwidth(14)\n",
        "fig.set_facecolor('white')\n",
        "\n",
        "# First plot\n",
        "## set bar size\n",
        "barWidth = 0.2\n",
        "dtc_score = [dtc_eval['acc'], dtc_eval['prec'], dtc_eval['rec'], dtc_eval['f1']]\n",
        "#rf_score = [rf_eval['acc'], rf_eval['prec'], rf_eval['rec'], rf_eval['f1']]\n",
        "nb_score = [nb_eval['acc'], nb_eval['prec'], nb_eval['rec'], nb_eval['f1']]\n",
        "knn_score = [knn_eval['acc'], knn_eval['prec'], knn_eval['rec'], knn_eval['f1']]\n",
        "svm_score = [svm_eval['acc'], svm_eval['prec'], svm_eval['rec'], svm_eval['f1']]\n",
        "\n",
        "\n",
        "## Set position of bar on X axis\n",
        "r1 = np.arange(len(dtc_score))\n",
        "r2 = [x + barWidth for x in r1]\n",
        "r3 = [x + barWidth for x in r2]\n",
        "r4 = [x + barWidth for x in r3]\n",
        "#r5 = [x + barWidth for x in r4]\n",
        "\n",
        "## Make the plot\n",
        "ax1.bar(r1, dtc_score, width=barWidth, edgecolor='white', label='Decision Tree')\n",
        "#ax1.bar(r2, rf_score, width=barWidth, edgecolor='white', label='Random Forest')\n",
        "ax1.bar(r2, nb_score, width=barWidth, edgecolor='white', label='Naive Bayes')\n",
        "ax1.bar(r3, knn_score, width=barWidth, edgecolor='white', label='K-Nearest Neighbors')\n",
        "ax1.bar(r4, svm_score, width=barWidth, edgecolor='white', label='Support Vector Machine')\n",
        "\n",
        "## Configure x and y axis\n",
        "ax1.set_xlabel('Metrics', fontweight='bold')\n",
        "labels = ['Accuracy', 'Precision', 'Recall', 'F1']\n",
        "ax1.set_xticks([r + (barWidth * 1.5) for r in range(len(dtc_score))], )\n",
        "ax1.set_xticklabels(labels)\n",
        "ax1.set_ylabel('Score', fontweight='bold')\n",
        "ax1.set_ylim(0, 1)\n",
        "\n",
        "## Create legend & title\n",
        "ax1.set_title('Evaluation Metrics', fontsize=14, fontweight='bold')\n",
        "ax1.legend(loc=4)\n",
        "\n",
        "# Second plot\n",
        "## Comparing ROC Curve\n",
        "ax2.plot(dtc_eval['fpr'], dtc_eval['tpr'], label='Decision Tree, auc = {:0.5f}'.format(dtc_eval['auc']))\n",
        "#ax2.plot(rf_eval['fpr'], rf_eval['tpr'], label='Random Forest, auc = {:0.5f}'.format(rf_eval['auc']))\n",
        "ax2.plot(nb_eval['fpr'], nb_eval['tpr'], label='Naive Bayes, auc = {:0.5f}'.format(nb_eval['auc']))\n",
        "ax2.plot(knn_eval['fpr'], knn_eval['tpr'], label='K-Nearest Nieghbor, auc = {:0.5f}'.format(knn_eval['auc']))\n",
        "ax2.plot(svm_eval['fpr'], svm_eval['tpr'], label='Support Vector Machine, auc = {:0.5f}'.format(svm_eval['auc']))\n",
        "\n",
        "## Configure x and y axis\n",
        "ax2.set_xlabel('False Positive Rate', fontweight='bold')\n",
        "ax2.set_ylabel('True Positive Rate', fontweight='bold')\n",
        "\n",
        "## Create legend & title\n",
        "ax2.set_title('ROC Curve', fontsize=14, fontweight='bold')\n",
        "ax2.legend(loc=4)\n",
        "\n",
        "plt.show()"
      ]
    },
    {
      "cell_type": "markdown",
      "metadata": {
        "id": "TsYmGvVbgVsy"
      },
      "source": [
        "# Implementation of Selected Models"
      ]
    },
    {
      "cell_type": "markdown",
      "metadata": {
        "id": "J7tftjyyNCD9"
      },
      "source": [
        "### After model experiments, Decision Tree gives the best performance on the data set. For implementation we will apply cross validation techniques on the given data set. Since it is a binary classification problem, for cross validation techniques K-fold and stratified k-fold is considered."
      ]
    },
    {
      "cell_type": "markdown",
      "metadata": {
        "id": "x-RN8W77hdt8"
      },
      "source": [
        "## Applying Cross - Validation Techniques\n",
        "\n",
        "## 1. K-fold Cross validation with 5 folds"
      ]
    },
    {
      "cell_type": "code",
      "execution_count": 149,
      "metadata": {
        "colab": {
          "base_uri": "https://localhost:8080/"
        },
        "id": "doEN_2w2MEmO",
        "outputId": "41f47093-897d-441b-bd37-14824bc5bf02"
      },
      "outputs": [
        {
          "name": "stdout",
          "output_type": "stream",
          "text": [
            "Fold:1, Train set: 174070, Test set:43518\n",
            "Fold:2, Train set: 174070, Test set:43518\n",
            "Fold:3, Train set: 174070, Test set:43518\n",
            "Fold:4, Train set: 174071, Test set:43517\n",
            "Fold:5, Train set: 174071, Test set:43517\n",
            "Cross-Validation score: [1. 1. 1. 1. 1.]\n",
            "Overall Accuracy: 100.00\n",
            "Mean absolute error of each fold: [0.0, 0.0, 0.0, 0.0, 0.0]\n",
            "Avg of Mean absolute error: 0.0\n"
          ]
        }
      ],
      "source": [
        "import numpy as np\n",
        "import warnings\n",
        "warnings.filterwarnings(\"ignore\")\n",
        "from numpy import mean\n",
        "from sklearn.model_selection import KFold\n",
        "from sklearn.model_selection import cross_val_score\n",
        "from sklearn.metrics import mean_squared_error, mean_absolute_error\n",
        "from sklearn.model_selection import cross_val_score\n",
        "\n",
        "X = FinalCrimeData.iloc[:, 2:-1]\n",
        "y = FinalCrimeData.iloc[:,-1]\n",
        "# format all fields as string\n",
        "X = X.astype(str)\n",
        "y = y.astype(bool)\n",
        "\n",
        "enc = OrdinalEncoder()\n",
        "X[[\"Offense_Parent_Group\", \"Precinct\", \"Offense_Code\", \"Sector\", \"Offense\", \"MCPP\",\"100_Block_Address\", \"Longitude\", \"Latitude\"]] = enc.fit_transform(X[[\"Offense_Parent_Group\",\"Precinct\", \"Offense_Code\", \"Sector\", \"Offense\",\"MCPP\", \"100_Block_Address\", \"Longitude\", \"Latitude\"]])\n",
        "\n",
        "le = LabelEncoder()\n",
        "y = pd.DataFrame(y)\n",
        "y['Safe_Neighborhood'] = le.fit_transform(y[\"Safe_Neighborhood\"])\n",
        "\n",
        "\n",
        "cnt = 1\n",
        "kf = KFold(n_splits=5)\n",
        "crossvalidation_result = []\n",
        "for train_index, test_index in kf.split(X):\n",
        "    print(f'Fold:{cnt}, Train set: {len(train_index)}, Test set:{len(test_index)}')\n",
        "    cnt += 1\n",
        "    X_train, X_test = X.iloc[train_index], X.iloc[test_index]\n",
        "    y_train, y_test = y.iloc[train_index], y.iloc[test_index]\n",
        "    # fit the model\n",
        "    model = tree.DecisionTreeClassifier(random_state=0)\n",
        "    model.fit(X_train, y_train)\n",
        "    #Evaluation of Model\n",
        "    yhat = model.predict(X_test)\n",
        "    cross_validation = mean_absolute_error(y_test,yhat).round(4)\n",
        "    crossvalidation_result.append(cross_validation)\n",
        "\n",
        "\n",
        "cross_validation_score = cross_val_score(model, X_train, y_train, scoring='accuracy', cv=5)\n",
        "print(\"Cross-Validation score:\", cross_validation_score)\n",
        "print('Overall Accuracy: %.2f' % (mean(cross_validation_score)*100))\n",
        "print(\"Mean absolute error of each fold:\", crossvalidation_result)\n",
        "print(\"Avg of Mean absolute error:\", mean(crossvalidation_result))"
      ]
    },
    {
      "cell_type": "markdown",
      "metadata": {
        "id": "6PIiKQJWh4mT"
      },
      "source": [
        "## 2. K-fold Cross validation with 10 folds"
      ]
    },
    {
      "cell_type": "code",
      "execution_count": 139,
      "metadata": {
        "colab": {
          "base_uri": "https://localhost:8080/"
        },
        "id": "AbKuRc1GORkS",
        "outputId": "c3d2b779-1c9b-4d47-95d2-b7c18658f553"
      },
      "outputs": [
        {
          "name": "stdout",
          "output_type": "stream",
          "text": [
            "Fold:1, Train set: 195829, Test set:21759\n",
            "Fold:2, Train set: 195829, Test set:21759\n",
            "Fold:3, Train set: 195829, Test set:21759\n",
            "Fold:4, Train set: 195829, Test set:21759\n",
            "Fold:5, Train set: 195829, Test set:21759\n",
            "Fold:6, Train set: 195829, Test set:21759\n",
            "Fold:7, Train set: 195829, Test set:21759\n",
            "Fold:8, Train set: 195829, Test set:21759\n",
            "Fold:9, Train set: 195830, Test set:21758\n",
            "Fold:10, Train set: 195830, Test set:21758\n",
            "Cross-Validation score: [1. 1. 1. 1. 1. 1. 1. 1. 1. 1.]\n",
            "Overall Accuracy: 100.00\n",
            "Mean absolute error of each fold: [0.0, 0.0, 0.0, 0.0, 0.0, 0.0, 0.0, 0.0, 0.0, 0.0]\n",
            "Avg of Mean absolute error: 0.0\n"
          ]
        }
      ],
      "source": [
        "import numpy as np\n",
        "from numpy import mean\n",
        "from sklearn.model_selection import KFold\n",
        "from sklearn.model_selection import cross_val_score\n",
        "from sklearn.metrics import mean_squared_error, mean_absolute_error\n",
        "\n",
        "cnt = 1\n",
        "kf = KFold(n_splits=10)\n",
        "crossvalidation_result = []\n",
        "for train_index, test_index in kf.split(X):\n",
        "    print(f'Fold:{cnt}, Train set: {len(train_index)}, Test set:{len(test_index)}')\n",
        "    cnt += 1\n",
        "    X_train, X_test = X.iloc[train_index], X.iloc[test_index]\n",
        "    y_train, y_test = y.iloc[train_index], y.iloc[test_index]\n",
        "    # fit the model\n",
        "    model = tree.DecisionTreeClassifier(random_state=0)\n",
        "    model.fit(X_train, y_train)\n",
        "    #Evaluation of Model\n",
        "    yhat = model.predict(X_test)\n",
        "    cross_validation = mean_absolute_error(y_test,yhat).round(4)\n",
        "    crossvalidation_result.append(cross_validation)\n",
        "    \n",
        "\n",
        "cross_validation_score = cross_val_score(model, X_train, y_train, scoring='accuracy', cv=10)\n",
        "print(\"Cross-Validation score:\", cross_validation_score)\n",
        "print('Overall Accuracy: %.2f' % (mean(cross_validation_score)*100))\n",
        "print(\"Mean absolute error of each fold:\", crossvalidation_result)\n",
        "print(\"Avg of Mean absolute error:\", mean(crossvalidation_result))"
      ]
    },
    {
      "cell_type": "markdown",
      "metadata": {
        "id": "kRElqAHKh7-9"
      },
      "source": [
        "## 3. Stratified K-fold Cross validation with 5 folds"
      ]
    },
    {
      "cell_type": "code",
      "execution_count": 140,
      "metadata": {
        "colab": {
          "base_uri": "https://localhost:8080/"
        },
        "id": "UOtqePK_Xtqi",
        "outputId": "9a7cb9cc-4bbc-4155-bee8-a5b40f1fc3a7"
      },
      "outputs": [
        {
          "name": "stdout",
          "output_type": "stream",
          "text": [
            "Fold:1, Train set: 174070, Test set:43518\n",
            "Fold:2, Train set: 174070, Test set:43518\n",
            "Fold:3, Train set: 174070, Test set:43518\n",
            "Fold:4, Train set: 174071, Test set:43517\n",
            "Fold:5, Train set: 174071, Test set:43517\n",
            "Stratified Cross-Validation score: [1. 1. 1. 1. 1.]\n",
            "Overall Accuracy: 100.00\n",
            "Mean absolute error of each fold: [0.0, 0.0, 0.0, 0.0, 0.0]\n",
            "Avg of Mean absolute error for Stratified Cross-Validation: 0.0\n"
          ]
        }
      ],
      "source": [
        "import numpy as np\n",
        "from numpy import mean\n",
        "from sklearn.model_selection import KFold\n",
        "from sklearn.model_selection import cross_val_score\n",
        "from sklearn.metrics import mean_squared_error, mean_absolute_error\n",
        "from sklearn.model_selection import StratifiedKFold\n",
        "\n",
        "cnt = 1\n",
        "skf = StratifiedKFold(n_splits=5)\n",
        "stratified_crossvalidation_result = []\n",
        "for train_index, test_index in skf.split(X, y):\n",
        "    print(f'Fold:{cnt}, Train set: {len(train_index)}, Test set:{len(test_index)}')\n",
        "    cnt += 1\n",
        "    X_train, X_test = X.iloc[train_index], X.iloc[test_index]\n",
        "    y_train, y_test = y.iloc[train_index], y.iloc[test_index]\n",
        "    # fit the model\n",
        "    model = tree.DecisionTreeClassifier(random_state=0)\n",
        "    model.fit(X_train, y_train)\n",
        "    #Evaluation of Model\n",
        "    yhat = model.predict(X_test)\n",
        "    stratified_cross_validation = mean_absolute_error(y_test,yhat).round(4)\n",
        "    stratified_crossvalidation_result.append(stratified_cross_validation)\n",
        "\n",
        "stratified_cross_validation_score = cross_val_score(model, X_train, y_train, scoring='accuracy', cv=5)\n",
        "print(\"Stratified Cross-Validation score:\", stratified_cross_validation_score)\n",
        "print('Overall Accuracy: %.2f' % (mean(stratified_cross_validation_score)*100))\n",
        "print(\"Mean absolute error of each fold:\", stratified_crossvalidation_result)\n",
        "print(\"Avg of Mean absolute error for Stratified Cross-Validation:\", mean(stratified_crossvalidation_result))"
      ]
    },
    {
      "cell_type": "markdown",
      "metadata": {
        "id": "_Q2L1w-Eh_vH"
      },
      "source": [
        "## 4. Stratified K-fold Cross validation with 10 folds"
      ]
    },
    {
      "cell_type": "code",
      "execution_count": 142,
      "metadata": {
        "colab": {
          "base_uri": "https://localhost:8080/"
        },
        "id": "MA6PZlqvZXK4",
        "outputId": "232299d4-60c8-4cc0-ea65-4908180e5271"
      },
      "outputs": [
        {
          "name": "stdout",
          "output_type": "stream",
          "text": [
            "Fold:1, Train set: 195829, Test set:21759\n",
            "Fold:2, Train set: 195829, Test set:21759\n",
            "Fold:3, Train set: 195829, Test set:21759\n",
            "Fold:4, Train set: 195829, Test set:21759\n",
            "Fold:5, Train set: 195829, Test set:21759\n",
            "Fold:6, Train set: 195829, Test set:21759\n",
            "Fold:7, Train set: 195829, Test set:21759\n",
            "Fold:8, Train set: 195829, Test set:21759\n",
            "Fold:9, Train set: 195830, Test set:21758\n",
            "Fold:10, Train set: 195830, Test set:21758\n",
            "Stratified Cross-Validation score: [1. 1. 1. 1. 1. 1. 1. 1. 1. 1.]\n",
            "Overall Accuracy: 100.00\n",
            "Mean absolute error of each fold: [0.0, 0.0, 0.0, 0.0, 0.0, 0.0, 0.0, 0.0, 0.0, 0.0]\n",
            "Avg of Mean absolute error for Stratified Cross-Validation: 0.0\n"
          ]
        }
      ],
      "source": [
        "import numpy as np\n",
        "from numpy import mean\n",
        "from sklearn.model_selection import KFold\n",
        "from sklearn.model_selection import cross_val_score\n",
        "from sklearn.metrics import mean_squared_error, mean_absolute_error\n",
        "from sklearn.model_selection import StratifiedKFold\n",
        "\n",
        "cnt = 1\n",
        "skf = StratifiedKFold(n_splits=10)\n",
        "stratified_crossvalidation_result = []\n",
        "for train_index, test_index in skf.split(X, y):\n",
        "    print(f'Fold:{cnt}, Train set: {len(train_index)}, Test set:{len(test_index)}')\n",
        "    cnt += 1\n",
        "    X_train, X_test = X.iloc[train_index], X.iloc[test_index]\n",
        "    y_train, y_test = y.iloc[train_index], y.iloc[test_index]\n",
        "    # fit the model\n",
        "    model = tree.DecisionTreeClassifier(random_state=0)\n",
        "    model.fit(X_train, y_train)\n",
        "    #Evaluation of Model\n",
        "    yhat = model.predict(X_test)\n",
        "    stratified_cross_validation = mean_absolute_error(y_test,yhat).round(4)\n",
        "    stratified_crossvalidation_result.append(stratified_cross_validation)\n",
        "    \n",
        "\n",
        "stratified_cross_validation_score = cross_val_score(model, X_train, y_train, scoring='accuracy', cv=10)\n",
        "print(\"Stratified Cross-Validation score:\", stratified_cross_validation_score)\n",
        "print('Overall Accuracy: %.2f' % (mean(stratified_cross_validation_score)*100))\n",
        "print(\"Mean absolute error of each fold:\", stratified_crossvalidation_result)\n",
        "print(\"Avg of Mean absolute error for Stratified Cross-Validation:\", mean(stratified_crossvalidation_result))"
      ]
    },
    {
      "cell_type": "markdown",
      "metadata": {
        "id": "tpZaJUO-nh8m"
      },
      "source": [
        "###We can see here that model is performing equally for all the K fold splits \n",
        "### This may suggest that the Decision tree model for our problem is very  optimistic. By the stratified validation results, we can come to conclusion that the dataset is balanced.\n",
        "### Also for all the four models our accuracy is same in all 5/10 folds. This means that our algorithm (and our data) is consistent and deploying it  will lead to similar performance.\n"
      ]
    }
  ],
  "metadata": {
    "colab": {
      "collapsed_sections": [],
      "name": "20172018 Project_IE_7275_Deepika_Gagana.ipynb",
      "provenance": []
    },
    "kernelspec": {
      "display_name": "Python 3",
      "name": "python3"
    },
    "language_info": {
      "name": "python"
    }
  },
  "nbformat": 4,
  "nbformat_minor": 0
}
